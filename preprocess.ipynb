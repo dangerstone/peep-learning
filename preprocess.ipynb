{
 "cells": [
  {
   "cell_type": "markdown",
   "metadata": {},
   "source": [
    "# Reading data or idk title here i guess"
   ]
  },
  {
   "cell_type": "code",
   "execution_count": 1,
   "metadata": {},
   "outputs": [],
   "source": [
    "import numpy as np\n",
    "import torch\n",
    "import pandas as pd\n",
    "\n",
    "import matplotlib.pyplot as plt\n",
    "import enum\n",
    "\n",
    "import os\n",
    "from PIL import Image\n",
    "import cv2 #pip install opencv-python\n",
    "import torchvision.transforms as transforms\n",
    "import matplotlib.image as mpimg"
   ]
  },
  {
   "cell_type": "markdown",
   "metadata": {},
   "source": [
    "## Loading in image data"
   ]
  },
  {
   "cell_type": "code",
   "execution_count": 2,
   "metadata": {},
   "outputs": [],
   "source": [
    "backgroundPATH = \"just-bird-data/withBackground\"\n",
    "noBackgroundPATH = \"just-bird-data/withoutBackground\"\n",
    "feederPATH = \"feeder-data\"\n",
    "csvPATH = \"birds.csv\"\n",
    "\n",
    "class Birds(enum.Enum):\n",
    "    BLUETIT = \"blueTit\"\n",
    "    CHAFFINCH = \"chaffinch\"\n",
    "    COALTIT = \"coalTit\"\n",
    "    GOLDFINCH = \"goldfinch\"\n",
    "    GREATTIT = \"greatTit\"\n",
    "    ROBIN = \"robin\"\n",
    "    STARLING = \"starling\"\n",
    "\n",
    "    def __str__(self) -> str:\n",
    "        return super().value"
   ]
  },
  {
   "cell_type": "markdown",
   "metadata": {},
   "source": [
    "## Converting image to tensor"
   ]
  },
  {
   "cell_type": "code",
   "execution_count": 8,
   "metadata": {},
   "outputs": [],
   "source": [
    "\n",
    "\n",
    "#path = '/your/images/folder/', \n",
    "def resize(path, width, height):\n",
    "\tdirs = os.listdir( path )\n",
    "\tfor item in dirs: #dirs is not defined mby dirs = os.listdir( path )\n",
    "\t\tif os.path.isfile(path + item):\n",
    "\t\t\timg = Image.open(path + item)\n",
    "\t\t\tnew_image = img.resize((width, height))\n",
    "\t\t\t# new_file_name = 'resized-' + str(width) + \"-\" + item\n",
    "\t\t\tnew_image.save(path + item)# new_file_name)\n",
    "\n",
    "for bird in Birds:\n",
    "    resize(noBackgroundPATH +\"/\"+ bird.value + \"/\" , 224, 224)\n",
    "#resize( backgroundPATH + \"/blueTit/\", 256,256)+"
   ]
  },
  {
   "cell_type": "markdown",
   "metadata": {},
   "source": [
    "## Resizing images to 224x224 px"
   ]
  },
  {
   "cell_type": "code",
   "execution_count": 5,
   "metadata": {},
   "outputs": [],
   "source": [
    "\n",
    "\n",
    "image = cv2.imread(first)\n",
    "\n",
    "# Convert BGR image to RGB image\n",
    "image = cv2.cvtColor(image, cv2.COLOR_BGR2RGB)\n",
    "print(image.shape)\n",
    "plt.imshow(image)\n",
    "# Define a transform to convert the image to torch tensor\n",
    "transform = transforms.Compose([\n",
    "    transforms.ToTensor()\n",
    "])\n",
    "# Convert the image to Torch tensor\n",
    "tensor = transform(image)\n",
    "# print the converted image tensor\n",
    "print(tensor)\n",
    "print(tensor.shape)\n",
    "\n",
    "def cv2ReadImageToTensor(img_path):\n",
    "    image = cv2.imread(img_path)\n",
    "    image = cv2.cvtColor(image, cv2.COLOR_BGR2RGB)\n",
    "    transform = transforms.Compose([transforms.ToTensor()])\n",
    "    tensor = transform(image)\n",
    "    return tensor"
   ]
  },
  {
   "cell_type": "markdown",
   "metadata": {},
   "source": [
    "### With CV2"
   ]
  },
  {
   "cell_type": "markdown",
   "metadata": {},
   "source": [
    "### With Pillow"
   ]
  },
  {
   "cell_type": "markdown",
   "metadata": {},
   "source": [
    "## Converting image to tensor"
   ]
  },
  {
   "cell_type": "code",
   "execution_count": 10,
   "metadata": {},
   "outputs": [],
   "source": [
    "\n",
    "\n",
    "plt.figure()\n",
    "first = backgroundPATH + \"/\" + str(Birds.BLUETIT) + \"/(1).jpg\"\n",
    "\n",
    "# Read Images\n",
    "img = mpimg.imread(first)\n",
    " \n",
    "# Output Images\n",
    "plt.imshow(img)\n",
    "\n",
    "def simpleShowImage(img_path):\n",
    "    plt.figure()\n",
    "    plt.imshow(mpimg.imread(img_path))"
   ]
  },
  {
   "cell_type": "code",
   "execution_count": 11,
   "metadata": {},
   "outputs": [],
   "source": [
    "# remove the prev resized files\n",
    "\n",
    "for bird in Birds:\n",
    "    path =  backgroundPATH + \"/\" + bird.value + \"/\" \n",
    "    dirs = os.listdir( path )\n",
    "    for item in dirs:\n",
    "        if os.path.isfile(path + item):\n",
    "            if \"resized\" in item:\n",
    "                os.remove(path+item)"
   ]
  }
 ],
 "metadata": {
  "kernelspec": {
   "display_name": "Python 3",
   "language": "python",
   "name": "python3"
  },
  "language_info": {
   "codemirror_mode": {
    "name": "ipython",
    "version": 3
   },
   "file_extension": ".py",
   "mimetype": "text/x-python",
   "name": "python",
   "nbconvert_exporter": "python",
   "pygments_lexer": "ipython3",
   "version": "3.11.1"
  }
 },
 "nbformat": 4,
 "nbformat_minor": 2
}
