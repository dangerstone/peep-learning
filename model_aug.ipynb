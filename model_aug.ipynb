{
 "cells": [
  {
   "cell_type": "markdown",
   "metadata": {},
   "source": [
    "# Setup"
   ]
  },
  {
   "cell_type": "code",
   "execution_count": null,
   "metadata": {},
   "outputs": [],
   "source": [
    "import torch\n",
    "from torchvision import datasets, transforms \n",
    "from sklearn.metrics import classification_report"
   ]
  },
  {
   "cell_type": "code",
   "execution_count": null,
   "metadata": {},
   "outputs": [],
   "source": [
    "%run setup.ipynb "
   ]
  },
  {
   "cell_type": "markdown",
   "metadata": {},
   "source": [
    "# Training with augmentation\n",
    "\n",
    "Now we've trained our model and assessed its performance on the feeder data... it's not the worst, but let's see if we can't make it a bit stronger by adding augmentations.\n",
    "\n",
    "Batch size: 16, epochs: 50, optimizer: Adam "
   ]
  },
  {
   "cell_type": "markdown",
   "metadata": {},
   "source": [
    "## Augmentation round 1\n",
    "\n",
    "First, just gonna mess up the pictures a little - no sciency arguments for it other than intuitively trying to capture that the feeder images are more grainy and the birds are not always perfectly posed (hence the crop)."
   ]
  },
  {
   "cell_type": "code",
   "execution_count": null,
   "metadata": {},
   "outputs": [],
   "source": [
    "# Defining the transforms including augmentations (and also the basic ToTensor and normalisation)\n",
    "preprocess_with_augmentation1 = transforms.Compose([\n",
    "    transforms.RandomRotation(degrees=10),\n",
    "    transforms.RandomHorizontalFlip(p=0.5),\n",
    "    transforms.RandomResizedCrop(size=224,scale=(0.3,1)), # lowerbound the scale at 30 % of og img to not get too small portions\n",
    "    \n",
    "    transforms.ToTensor(),\n",
    "    transforms.Normalize(mean=[0.485, 0.456, 0.406], std=[0.229, 0.224, 0.225]),\n",
    "])\n",
    "\n",
    "# Datasets and loaders with augmentations added \n",
    "dataset_train_aug1 = datasets.ImageFolder(PATH_TRAIN, preprocess_with_augmentation1)\n",
    "dataloader_train_aug1 = torch.utils.data.DataLoader(dataset_train_aug1, batch_size=16, shuffle=True, num_workers=4)"
   ]
  },
  {
   "cell_type": "code",
   "execution_count": null,
   "metadata": {},
   "outputs": [],
   "source": [
    "# LOOKING AT THE AUGMENTATIONS \n",
    "\n",
    "# inputs, classes = next(iter(dataloader_train_aug1))\n",
    "# out = torchvision.utils.make_grid(inputs)\n",
    "# imshow(out, title=[class_labels[x] for x in classes])"
   ]
  },
  {
   "cell_type": "markdown",
   "metadata": {},
   "source": [
    "Load in a fresh ResNet50 that's prepped for transfer learning and optimizer"
   ]
  },
  {
   "cell_type": "code",
   "execution_count": null,
   "metadata": {},
   "outputs": [],
   "source": [
    "untrained_model_aug1 = load_and_prep_resnet50()\n",
    "optimizer = torch.optim.Adam(untrained_model_aug1.parameters(), lr=0.001)\n",
    "#optimizer = get_optimizer(untrained_model_aug1)"
   ]
  },
  {
   "cell_type": "markdown",
   "metadata": {},
   "source": [
    "### Training"
   ]
  },
  {
   "cell_type": "code",
   "execution_count": null,
   "metadata": {},
   "outputs": [],
   "source": [
    "trained_model_aug1, trained_aug1_info = train_model(model=untrained_model_aug1, optimizer=optimizer, num_epoch=50, train=dataloader_train_aug1)"
   ]
  },
  {
   "cell_type": "code",
   "execution_count": null,
   "metadata": {},
   "outputs": [],
   "source": [
    "torch.save({\"aug\": trained_model_aug1.state_dict(), \"aug_info\": trained_aug1_info},\"aug1Model_50.tar\")"
   ]
  },
  {
   "cell_type": "markdown",
   "metadata": {},
   "source": [
    "### Training Results"
   ]
  },
  {
   "cell_type": "code",
   "execution_count": null,
   "metadata": {},
   "outputs": [],
   "source": [
    "plot_loss(trained_aug1_info[\"train_loss\"], trained_aug1_info[\"val_loss\"], [\"Train\", \"Val\"])"
   ]
  },
  {
   "cell_type": "code",
   "execution_count": null,
   "metadata": {},
   "outputs": [],
   "source": [
    "truel, predl = makeAll(dataloader_test, trained_model_aug1, device)\n",
    "print(\"Accuracy: \", (np.sum(predl==truel)/predl.size * 100))\n",
    "print(classification_report(truel, predl, target_names=class_labels))"
   ]
  },
  {
   "cell_type": "markdown",
   "metadata": {},
   "source": [
    "### Finetuning"
   ]
  },
  {
   "cell_type": "code",
   "execution_count": null,
   "metadata": {},
   "outputs": [],
   "source": [
    "unfreeze_layers(trained_model_aug1)\n",
    "model_aug1, model_aug1_info = train_model(model=trained_model_aug1, optimizer=optimizer, num_epoch=50, train=dataloader_train_aug1)"
   ]
  },
  {
   "cell_type": "code",
   "execution_count": null,
   "metadata": {},
   "outputs": [],
   "source": [
    "torch.save({\"aug1\": model_aug1.state_dict(), \"aug1_info\": model_aug1_info, \"freeze_aug1_info\": trained_aug1_info},\"aug1Model_60.tar\")"
   ]
  },
  {
   "cell_type": "markdown",
   "metadata": {},
   "source": [
    "### Round 1 results"
   ]
  },
  {
   "cell_type": "code",
   "execution_count": null,
   "metadata": {},
   "outputs": [],
   "source": [
    "visualize_model(model_aug1, dataloader_tiny_val, class_labels, device)"
   ]
  },
  {
   "cell_type": "code",
   "execution_count": null,
   "metadata": {},
   "outputs": [],
   "source": [
    "plot_accuracies(model_aug1_info[\"train_loss\"], model_aug1_info[\"val_loss\"], [\"Train\", \"Val\"])"
   ]
  },
  {
   "cell_type": "code",
   "execution_count": null,
   "metadata": {},
   "outputs": [],
   "source": [
    "plot_accuracies(model_aug1_info[\"train_acc\"], model_aug1_info[\"val_acc\"], [\"Train\", \"Val\"])"
   ]
  },
  {
   "cell_type": "code",
   "execution_count": null,
   "metadata": {},
   "outputs": [],
   "source": [
    "truel, predl = makeAll(dataloader_test, model_aug1, device)\n",
    "plot_confusion_matrix(truel, predl, class_labels, normalize=True)\n",
    "print(\"Accuracy\", (np.sum(predl==truel)/predl.size * 100))\n"
   ]
  },
  {
   "cell_type": "code",
   "execution_count": null,
   "metadata": {},
   "outputs": [],
   "source": [
    "print(classification_report(truel, predl, target_names=class_labels))"
   ]
  },
  {
   "cell_type": "markdown",
   "metadata": {},
   "source": [
    "### On feeder"
   ]
  },
  {
   "cell_type": "code",
   "execution_count": null,
   "metadata": {},
   "outputs": [],
   "source": [
    "truel, predl = makeAll(dataloader_feeder, model_aug1, device)\n",
    "plot_confusion_matrix(truel, predl, class_labels, normalize=True)\n",
    "print(\"Accuracy\", (np.sum(predl==truel)/predl.size * 100))\n"
   ]
  },
  {
   "cell_type": "markdown",
   "metadata": {},
   "source": [
    "## Augmentation Round 2\n",
    "\n",
    "Add blur and colorjitter"
   ]
  },
  {
   "cell_type": "code",
   "execution_count": null,
   "metadata": {},
   "outputs": [],
   "source": [
    "# Defining the transforms including augmentations (and also the basic ToTensor and normalisation)\n",
    "preprocess_with_augmentation2 = transforms.Compose([\n",
    "    transforms.ColorJitter(brightness=0.1), # Added\n",
    "    transforms.GaussianBlur(kernel_size=(5,5), sigma=(7, 9)), # Added\n",
    "    transforms.RandomRotation(degrees=10),\n",
    "    transforms.RandomHorizontalFlip(p=0.5),\n",
    "    transforms.RandomResizedCrop(size=224,scale=(0.3,1)), # lowerbound the scale at 30 % of og img to not get too small portions\n",
    "    \n",
    "    transforms.ToTensor(),\n",
    "    transforms.Normalize(mean=[0.485, 0.456, 0.406], std=[0.229, 0.224, 0.225]),\n",
    "])\n",
    "\n",
    "# Datasets and loaders with augmentations added \n",
    "dataset_train_aug2 = datasets.ImageFolder(PATH_TRAIN, preprocess_with_augmentation2)\n",
    "dataloader_train_aug2 = torch.utils.data.DataLoader(dataset_train_aug2, batch_size=16, shuffle=True, num_workers=2)"
   ]
  },
  {
   "cell_type": "markdown",
   "metadata": {},
   "source": [
    "Load in a fresh ResNet50 that's prepped for transfer learning"
   ]
  },
  {
   "cell_type": "code",
   "execution_count": null,
   "metadata": {},
   "outputs": [],
   "source": [
    "untrained_model_aug2 = load_and_prep_resnet50()\n",
    "optimizer = torch.optim.Adam(untrained_model_aug2.parameters(), lr=0.001)\n",
    "#optimizer = get_optimizer(untrained_model_aug2) "
   ]
  },
  {
   "cell_type": "markdown",
   "metadata": {},
   "source": [
    "### Training"
   ]
  },
  {
   "cell_type": "code",
   "execution_count": null,
   "metadata": {},
   "outputs": [],
   "source": [
    "trained_model_aug2, trained_aug2_info = train_model(model=untrained_model_aug2, optimizer=optimizer, num_epoch=50, train=dataloader_train_aug2) "
   ]
  },
  {
   "cell_type": "code",
   "execution_count": null,
   "metadata": {},
   "outputs": [],
   "source": [
    "torch.save({\"aug\": trained_model_aug2.state_dict(), \"aug_info\": trained_aug2_info},\"aug2Model_50.tar\")"
   ]
  },
  {
   "cell_type": "markdown",
   "metadata": {},
   "source": [
    "### Training Results"
   ]
  },
  {
   "cell_type": "code",
   "execution_count": null,
   "metadata": {},
   "outputs": [],
   "source": [
    "plot_loss(trained_aug2_info[\"train_loss\"], trained_aug2_info[\"val_loss\"], [\"Train\", \"Val\"])"
   ]
  },
  {
   "cell_type": "code",
   "execution_count": null,
   "metadata": {},
   "outputs": [],
   "source": [
    "truel, predl = makeAll(dataloader_test, trained_model_aug2, device)\n",
    "print(\"Accuracy: \", (np.sum(predl==truel)/predl.size * 100))\n",
    "print(classification_report(truel, predl, target_names=class_labels))"
   ]
  },
  {
   "cell_type": "markdown",
   "metadata": {},
   "source": [
    "### Finetuning"
   ]
  },
  {
   "cell_type": "code",
   "execution_count": null,
   "metadata": {},
   "outputs": [],
   "source": [
    "unfreeze_layers(trained_model_aug2)\n",
    "model_aug2, model_aug2_info = train_model(model=trained_model_aug2, optimizer=optimizer, num_epoch=50, train=dataloader_train_aug2)"
   ]
  },
  {
   "cell_type": "code",
   "execution_count": null,
   "metadata": {},
   "outputs": [],
   "source": [
    "torch.save({\"aug2\": model_aug2.state_dict(), \"aug2_info\": model_aug2_info, \"freeze_aug1_info\": trained_aug2_info},\"aug2Model_40.tar\")"
   ]
  },
  {
   "cell_type": "markdown",
   "metadata": {},
   "source": [
    "### Round 2 Results"
   ]
  },
  {
   "cell_type": "code",
   "execution_count": null,
   "metadata": {},
   "outputs": [],
   "source": [
    "visualize_model(model_aug2, dataloader_tiny_val, class_labels, device)"
   ]
  },
  {
   "cell_type": "code",
   "execution_count": null,
   "metadata": {},
   "outputs": [],
   "source": [
    "plot_accuracies(model_aug2_info[\"train_loss\"], model_aug2_info[\"val_loss\"], [\"Train\", \"Val\"])"
   ]
  },
  {
   "cell_type": "code",
   "execution_count": null,
   "metadata": {},
   "outputs": [],
   "source": [
    "plot_accuracies(model_aug2_info[\"train_acc\"], model_aug2_info[\"val_acc\"], [\"Train\", \"Val\"])"
   ]
  },
  {
   "cell_type": "code",
   "execution_count": null,
   "metadata": {},
   "outputs": [],
   "source": [
    "truel, predl = makeAll(dataloader_test, model_aug2, device)\n",
    "plot_confusion_matrix(truel, predl, class_labels, normalize=True)\n",
    "print(\"Accuracy\", (np.sum(predl==truel)/predl.size * 100))"
   ]
  },
  {
   "cell_type": "code",
   "execution_count": null,
   "metadata": {},
   "outputs": [],
   "source": [
    "class_labels = ['blueTit', 'chaffinch', 'coalTit', 'goldfinch', 'greatTit', 'robin', 'starling']\n",
    "print(classification_report(truel, predl, target_names=class_labels))"
   ]
  },
  {
   "cell_type": "markdown",
   "metadata": {},
   "source": [
    "### On feeder"
   ]
  },
  {
   "cell_type": "code",
   "execution_count": null,
   "metadata": {},
   "outputs": [],
   "source": [
    "truel, predl = makeAll(dataloader_feeder, model_aug2, device)\n",
    "plot_confusion_matrix(truel, predl, class_labels, normalize=True)\n",
    "print(\"Accuracy\", (np.sum(predl==truel)/predl.size * 100))"
   ]
  },
  {
   "cell_type": "markdown",
   "metadata": {},
   "source": [
    "## Augmentation round 3\n",
    "\n",
    "Try without jitter"
   ]
  },
  {
   "cell_type": "code",
   "execution_count": 24,
   "metadata": {},
   "outputs": [],
   "source": [
    "# Defining the transforms including augmentations (and also the basic ToTensor and normalisation)\n",
    "preprocess_with_augmentation3 = transforms.Compose([\n",
    "    transforms.GaussianBlur(kernel_size=(5,5), sigma=(7, 9)), # Added\n",
    "    transforms.RandomRotation(degrees=10),\n",
    "    transforms.RandomHorizontalFlip(p=0.5),\n",
    "    transforms.RandomResizedCrop(size=224,scale=(0.3,1)), # lowerbound the scale at 30 % of og img to not get too small portions\n",
    "\n",
    "    transforms.ToTensor(),\n",
    "    transforms.Normalize(mean=[0.485, 0.456, 0.406], std=[0.229, 0.224, 0.225]),\n",
    "])\n",
    "\n",
    "# Datasets and loaders with augmentations added \n",
    "dataset_train_aug3 = datasets.ImageFolder(PATH_TRAIN, preprocess_with_augmentation3)\n",
    "dataloader_train_aug3 = torch.utils.data.DataLoader(dataset_train_aug3, batch_size=16, shuffle=True, num_workers=2)"
   ]
  },
  {
   "cell_type": "markdown",
   "metadata": {},
   "source": [
    "Load in a fresh ResNet50 that's prepped for transfer learning"
   ]
  },
  {
   "cell_type": "code",
   "execution_count": 25,
   "metadata": {},
   "outputs": [],
   "source": [
    "untrained_model_aug3 = load_and_prep_resnet50()\n",
    "optimizer = torch.optim.Adam(untrained_model_aug3.parameters(), lr=0.001)\n",
    "# optimizer = get_optimizer(untrained_model_aug3) "
   ]
  },
  {
   "cell_type": "markdown",
   "metadata": {},
   "source": [
    "### Training\n",
    "First with the frozen layers, then unfreeze for finetuning"
   ]
  },
  {
   "cell_type": "code",
   "execution_count": 26,
   "metadata": {},
   "outputs": [
    {
     "name": "stdout",
     "output_type": "stream",
     "text": [
      "Epoch 1/50\n",
      "----------\n",
      "Train Loss: 1.6936 Acc: 0.4551\n",
      "Val Loss: 1.6172 Acc: 0.4712\n",
      "Epoch time 2m 25s\n",
      "----------\n",
      "\n",
      "Epoch 2/50\n",
      "----------\n",
      "Train Loss: 1.2436 Acc: 0.6898\n",
      "Val Loss: 1.4793 Acc: 0.5192\n",
      "Epoch time 2m 25s\n",
      "----------\n",
      "\n",
      "Epoch 3/50\n",
      "----------\n",
      "Train Loss: 1.0596 Acc: 0.7329\n",
      "Val Loss: 1.3490 Acc: 0.5769\n",
      "Epoch time 2m 25s\n",
      "----------\n",
      "\n",
      "Epoch 4/50\n",
      "----------\n",
      "Train Loss: 0.8954 Acc: 0.7689\n",
      "Val Loss: 1.2162 Acc: 0.7212\n",
      "Epoch time 2m 26s\n",
      "----------\n",
      "\n",
      "Epoch 5/50\n",
      "----------\n",
      "Train Loss: 0.8002 Acc: 0.8036\n",
      "Val Loss: 1.2031 Acc: 0.7115\n",
      "Epoch time 2m 24s\n",
      "----------\n",
      "\n",
      "Epoch 6/50\n",
      "----------\n",
      "Train Loss: 0.7384 Acc: 0.8036\n",
      "Val Loss: 1.0946 Acc: 0.7019\n",
      "Epoch time 2m 25s\n",
      "----------\n",
      "\n",
      "Epoch 7/50\n",
      "----------\n",
      "Train Loss: 0.6827 Acc: 0.8240\n",
      "Val Loss: 1.0589 Acc: 0.7115\n",
      "Epoch time 2m 25s\n",
      "----------\n",
      "\n",
      "Epoch 8/50\n",
      "----------\n",
      "Train Loss: 0.6446 Acc: 0.8204\n",
      "Val Loss: 0.9963 Acc: 0.7596\n",
      "Epoch time 2m 25s\n",
      "----------\n",
      "\n",
      "Epoch 9/50\n",
      "----------\n",
      "Train Loss: 0.6264 Acc: 0.8263\n",
      "Val Loss: 0.9773 Acc: 0.7404\n",
      "Epoch time 2m 26s\n",
      "----------\n",
      "\n",
      "Epoch 10/50\n",
      "----------\n",
      "Train Loss: 0.5871 Acc: 0.8479\n",
      "Val Loss: 0.9995 Acc: 0.7308\n",
      "Epoch time 2m 26s\n",
      "----------\n",
      "\n",
      "Epoch 11/50\n",
      "----------\n",
      "Train Loss: 0.5584 Acc: 0.8575\n",
      "Val Loss: 0.9056 Acc: 0.7308\n",
      "Epoch time 2m 26s\n",
      "----------\n",
      "\n",
      "Epoch 12/50\n",
      "----------\n",
      "Train Loss: 0.5450 Acc: 0.8635\n",
      "Val Loss: 0.9667 Acc: 0.7308\n",
      "Epoch time 2m 25s\n",
      "----------\n",
      "\n",
      "Epoch 13/50\n",
      "----------\n",
      "Train Loss: 0.5002 Acc: 0.8826\n",
      "Val Loss: 0.9291 Acc: 0.7212\n",
      "Epoch time 2m 26s\n",
      "----------\n",
      "\n",
      "Epoch 14/50\n",
      "----------\n",
      "Train Loss: 0.4870 Acc: 0.8695\n",
      "Val Loss: 0.9023 Acc: 0.7404\n",
      "Epoch time 2m 31s\n",
      "----------\n",
      "\n",
      "Epoch 15/50\n",
      "----------\n",
      "Train Loss: 0.4814 Acc: 0.8766\n",
      "Val Loss: 0.8785 Acc: 0.7212\n",
      "Epoch time 2m 25s\n",
      "----------\n",
      "\n",
      "Epoch 16/50\n",
      "----------\n",
      "Train Loss: 0.4789 Acc: 0.8683\n",
      "Val Loss: 0.8414 Acc: 0.7308\n",
      "Epoch time 2m 25s\n",
      "----------\n",
      "\n",
      "Epoch 17/50\n",
      "----------\n",
      "Train Loss: 0.4499 Acc: 0.8671\n",
      "Val Loss: 0.8066 Acc: 0.7788\n",
      "Epoch time 2m 25s\n",
      "----------\n",
      "\n",
      "Epoch 18/50\n",
      "----------\n",
      "Train Loss: 0.4376 Acc: 0.8743\n",
      "Val Loss: 0.9390 Acc: 0.6923\n",
      "Epoch time 2m 24s\n",
      "----------\n",
      "\n",
      "Epoch 19/50\n",
      "----------\n",
      "Train Loss: 0.4306 Acc: 0.9018\n",
      "Val Loss: 0.8827 Acc: 0.7404\n",
      "Epoch time 2m 24s\n",
      "----------\n",
      "\n",
      "Epoch 20/50\n",
      "----------\n",
      "Train Loss: 0.4244 Acc: 0.8874\n",
      "Val Loss: 0.8292 Acc: 0.7788\n",
      "Epoch time 2m 25s\n",
      "----------\n",
      "\n",
      "Epoch 21/50\n",
      "----------\n",
      "Train Loss: 0.4347 Acc: 0.8814\n",
      "Val Loss: 0.8059 Acc: 0.7500\n",
      "Epoch time 2m 25s\n",
      "----------\n",
      "\n",
      "Epoch 22/50\n",
      "----------\n",
      "Train Loss: 0.4041 Acc: 0.8994\n",
      "Val Loss: 0.7864 Acc: 0.7692\n",
      "Epoch time 2m 25s\n",
      "----------\n",
      "\n",
      "Epoch 23/50\n",
      "----------\n",
      "Train Loss: 0.4141 Acc: 0.8946\n",
      "Val Loss: 0.8263 Acc: 0.7404\n",
      "Epoch time 2m 24s\n",
      "----------\n",
      "\n",
      "Epoch 24/50\n",
      "----------\n",
      "Train Loss: 0.3999 Acc: 0.8886\n",
      "Val Loss: 0.7710 Acc: 0.7596\n",
      "Epoch time 2m 25s\n",
      "----------\n",
      "\n",
      "Epoch 25/50\n",
      "----------\n",
      "Train Loss: 0.3720 Acc: 0.8910\n",
      "Val Loss: 0.7499 Acc: 0.7404\n",
      "Epoch time 2m 24s\n",
      "----------\n",
      "\n",
      "Epoch 26/50\n",
      "----------\n",
      "Train Loss: 0.3800 Acc: 0.8814\n",
      "Val Loss: 0.8102 Acc: 0.7692\n",
      "Epoch time 2m 25s\n",
      "----------\n",
      "\n",
      "Epoch 27/50\n",
      "----------\n",
      "Train Loss: 0.3687 Acc: 0.8850\n",
      "Val Loss: 0.7749 Acc: 0.7596\n",
      "Epoch time 2m 25s\n",
      "----------\n",
      "\n",
      "Epoch 28/50\n",
      "----------\n",
      "Train Loss: 0.3698 Acc: 0.8982\n",
      "Val Loss: 0.7734 Acc: 0.7308\n",
      "Epoch time 2m 24s\n",
      "----------\n",
      "\n",
      "Epoch 29/50\n",
      "----------\n",
      "Train Loss: 0.3620 Acc: 0.8958\n",
      "Val Loss: 0.7776 Acc: 0.7788\n",
      "Epoch time 2m 24s\n",
      "----------\n",
      "\n",
      "Epoch 30/50\n",
      "----------\n",
      "Train Loss: 0.3464 Acc: 0.9042\n",
      "Val Loss: 0.7825 Acc: 0.7596\n",
      "Epoch time 2m 25s\n",
      "----------\n",
      "\n",
      "Epoch 31/50\n",
      "----------\n",
      "Train Loss: 0.3544 Acc: 0.8946\n",
      "Val Loss: 0.7757 Acc: 0.7692\n",
      "Epoch time 2m 24s\n",
      "----------\n",
      "\n",
      "Epoch 32/50\n",
      "----------\n",
      "Train Loss: 0.3458 Acc: 0.8898\n",
      "Val Loss: 0.7338 Acc: 0.7596\n",
      "Epoch time 2m 24s\n",
      "----------\n",
      "\n",
      "Epoch 33/50\n",
      "----------\n",
      "Train Loss: 0.3444 Acc: 0.9018\n",
      "Val Loss: 0.7546 Acc: 0.7404\n",
      "Epoch time 2m 25s\n",
      "----------\n",
      "\n",
      "Epoch 34/50\n",
      "----------\n",
      "Train Loss: 0.3374 Acc: 0.9078\n",
      "Val Loss: 0.7543 Acc: 0.7596\n",
      "Epoch time 2m 25s\n",
      "----------\n",
      "\n",
      "Epoch 35/50\n",
      "----------\n",
      "Train Loss: 0.3126 Acc: 0.9042\n",
      "Val Loss: 0.7933 Acc: 0.7788\n",
      "Epoch time 2m 25s\n",
      "----------\n",
      "\n",
      "Epoch 36/50\n",
      "----------\n",
      "Train Loss: 0.2974 Acc: 0.9210\n",
      "Val Loss: 0.7353 Acc: 0.7596\n",
      "Epoch time 2m 26s\n",
      "----------\n",
      "\n",
      "Epoch 37/50\n",
      "----------\n",
      "Train Loss: 0.3062 Acc: 0.9198\n",
      "Val Loss: 0.7086 Acc: 0.7981\n",
      "Epoch time 2m 25s\n",
      "----------\n",
      "\n",
      "Epoch 38/50\n",
      "----------\n",
      "Train Loss: 0.3116 Acc: 0.9090\n",
      "Val Loss: 0.8025 Acc: 0.7500\n",
      "Epoch time 2m 26s\n",
      "----------\n",
      "\n",
      "Epoch 39/50\n",
      "----------\n",
      "Train Loss: 0.2935 Acc: 0.9150\n",
      "Val Loss: 0.7237 Acc: 0.7981\n",
      "Epoch time 2m 30s\n",
      "----------\n",
      "\n",
      "Epoch 40/50\n",
      "----------\n",
      "Train Loss: 0.3050 Acc: 0.9234\n",
      "Val Loss: 0.7898 Acc: 0.7788\n",
      "Epoch time 2m 25s\n",
      "----------\n",
      "\n",
      "Epoch 41/50\n",
      "----------\n",
      "Train Loss: 0.3066 Acc: 0.9102\n",
      "Val Loss: 0.7423 Acc: 0.7596\n",
      "Epoch time 2m 24s\n",
      "----------\n",
      "\n",
      "Epoch 42/50\n",
      "----------\n",
      "Train Loss: 0.3325 Acc: 0.8994\n",
      "Val Loss: 0.7413 Acc: 0.7885\n",
      "Epoch time 2m 24s\n",
      "----------\n",
      "\n",
      "Epoch 43/50\n",
      "----------\n",
      "Train Loss: 0.3055 Acc: 0.9102\n",
      "Val Loss: 0.6769 Acc: 0.7788\n",
      "Epoch time 2m 25s\n",
      "----------\n",
      "\n",
      "Epoch 44/50\n",
      "----------\n",
      "Train Loss: 0.2870 Acc: 0.9126\n",
      "Val Loss: 0.7123 Acc: 0.7885\n",
      "Epoch time 2m 25s\n",
      "----------\n",
      "\n",
      "Epoch 45/50\n",
      "----------\n",
      "Train Loss: 0.3068 Acc: 0.9054\n",
      "Val Loss: 0.7227 Acc: 0.7500\n",
      "Epoch time 2m 26s\n",
      "----------\n",
      "\n",
      "Epoch 46/50\n",
      "----------\n",
      "Train Loss: 0.3063 Acc: 0.9186\n",
      "Val Loss: 0.7020 Acc: 0.7404\n",
      "Epoch time 2m 25s\n",
      "----------\n",
      "\n",
      "Epoch 47/50\n",
      "----------\n",
      "Train Loss: 0.2849 Acc: 0.9162\n",
      "Val Loss: 0.6745 Acc: 0.7885\n",
      "Epoch time 2m 25s\n",
      "----------\n",
      "\n",
      "Epoch 48/50\n",
      "----------\n",
      "Train Loss: 0.2571 Acc: 0.9234\n",
      "Val Loss: 0.6399 Acc: 0.7692\n",
      "Epoch time 2m 25s\n",
      "----------\n",
      "\n",
      "Epoch 49/50\n",
      "----------\n",
      "Train Loss: 0.3015 Acc: 0.9090\n",
      "Val Loss: 0.7187 Acc: 0.7596\n",
      "Epoch time 2m 25s\n",
      "----------\n",
      "\n",
      "Epoch 50/50\n",
      "----------\n",
      "Train Loss: 0.2652 Acc: 0.9234\n",
      "Val Loss: 0.6989 Acc: 0.7596\n",
      "Epoch time 2m 25s\n",
      "----------\n",
      "\n",
      "Training complete in 120m 57s\n",
      "Best model had accuracy ${}, loss ${} at epoch ${} tensor(0.7981, dtype=torch.float64) 0.7085689764756423 37\n",
      "Validation accuracies:\n",
      "[0.47115384615384615, 0.5192307692307693, 0.5769230769230769, 0.7211538461538461, 0.7115384615384616, 0.7019230769230769, 0.7115384615384616, 0.7596153846153846, 0.7403846153846154, 0.7307692307692307, 0.7307692307692307, 0.7307692307692307, 0.7211538461538461, 0.7403846153846154, 0.7211538461538461, 0.7307692307692307, 0.7788461538461539, 0.6923076923076923, 0.7403846153846154, 0.7788461538461539, 0.75, 0.7692307692307693, 0.7403846153846154, 0.7596153846153846, 0.7403846153846154, 0.7692307692307693, 0.7596153846153846, 0.7307692307692307, 0.7788461538461539, 0.7596153846153846, 0.7692307692307693, 0.7596153846153846, 0.7403846153846154, 0.7596153846153846, 0.7788461538461539, 0.7596153846153846, 0.7980769230769231, 0.75, 0.7980769230769231, 0.7788461538461539, 0.7596153846153846, 0.7884615384615384, 0.7788461538461539, 0.7884615384615384, 0.75, 0.7403846153846154, 0.7884615384615384, 0.7692307692307693, 0.7596153846153846, 0.7596153846153846]\n",
      "Training accuracies:\n",
      "[0.4550898203592814, 0.6898203592814371, 0.732934131736527, 0.7688622754491018, 0.8035928143712575, 0.8035928143712575, 0.8239520958083832, 0.8203592814371258, 0.8263473053892215, 0.8479041916167664, 0.8574850299401198, 0.8634730538922155, 0.8826347305389222, 0.8694610778443114, 0.8766467065868263, 0.8682634730538922, 0.8670658682634731, 0.874251497005988, 0.9017964071856287, 0.8874251497005988, 0.881437125748503, 0.8994011976047904, 0.8946107784431138, 0.888622754491018, 0.8910179640718563, 0.881437125748503, 0.8850299401197604, 0.8982035928143712, 0.895808383233533, 0.9041916167664671, 0.8946107784431138, 0.8898203592814371, 0.9017964071856287, 0.9077844311377246, 0.9041916167664671, 0.9209580838323354, 0.9197604790419162, 0.9089820359281438, 0.9149700598802395, 0.9233532934131736, 0.9101796407185628, 0.8994011976047904, 0.9101796407185628, 0.9125748502994012, 0.9053892215568863, 0.918562874251497, 0.9161676646706587, 0.9233532934131736, 0.9089820359281438, 0.9233532934131736]\n"
     ]
    }
   ],
   "source": [
    "trained_model_aug3, trained_aug3_info = train_model(model=untrained_model_aug3, optimizer=optimizer, num_epoch=50, train=dataloader_train_aug3) \n",
    "torch.save({\"aug\": trained_model_aug3.state_dict(), \"aug_info\": trained_aug3_info},\"aug3Model_50.tar\")"
   ]
  },
  {
   "cell_type": "code",
   "execution_count": null,
   "metadata": {},
   "outputs": [],
   "source": [
    "torch.save({\"aug\": trained_model_aug3.state_dict(), \"aug_info\": trained_aug3_info},\"aug3Model_50.tar\")"
   ]
  },
  {
   "cell_type": "markdown",
   "metadata": {},
   "source": [
    "### Training Results"
   ]
  },
  {
   "cell_type": "code",
   "execution_count": 27,
   "metadata": {},
   "outputs": [
    {
     "data": {
      "image/png": "[encoded data removed]",
      "text/plain": [
       "<Figure size 600x600 with 1 Axes>"
      ]
     },
     "metadata": {},
     "output_type": "display_data"
    }
   ],
   "source": [
    "plot_loss(trained_aug3_info[\"train_loss\"], trained_aug3_info[\"val_loss\"], [\"Train\", \"Val\"])"
   ]
  },
  {
   "cell_type": "code",
   "execution_count": 28,
   "metadata": {},
   "outputs": [
    {
     "name": "stdout",
     "output_type": "stream",
     "text": [
      "Accuracy:  78.0952380952381\n",
      "              precision    recall  f1-score   support\n",
      "\n",
      "     blueTit       1.00      0.60      0.75        15\n",
      "   chaffinch       0.83      0.67      0.74        15\n",
      "     coalTit       0.70      0.93      0.80        15\n",
      "   goldfinch       0.85      0.73      0.79        15\n",
      "    greatTit       0.62      0.67      0.65        15\n",
      "       robin       0.93      0.87      0.90        15\n",
      "    starling       0.71      1.00      0.83        15\n",
      "\n",
      "    accuracy                           0.78       105\n",
      "   macro avg       0.81      0.78      0.78       105\n",
      "weighted avg       0.81      0.78      0.78       105\n",
      "\n"
     ]
    }
   ],
   "source": [
    "truel, predl = makeAll(dataloader_test, trained_model_aug3, device)\n",
    "print(\"Accuracy: \", (np.sum(predl==truel)/predl.size * 100))\n",
    "print(classification_report(truel, predl, target_names=class_labels))"
   ]
  },
  {
   "cell_type": "markdown",
   "metadata": {},
   "source": [
    "### Finetuning"
   ]
  },
  {
   "cell_type": "code",
   "execution_count": null,
   "metadata": {},
   "outputs": [],
   "source": [
    "unfreeze_layers(trained_model_aug3)\n",
    "model_aug3, model_aug3_info = train_model(model=trained_model_aug3, optimizer=optimizer, num_epoch=50, train=dataloader_train_aug3)"
   ]
  },
  {
   "cell_type": "code",
   "execution_count": null,
   "metadata": {},
   "outputs": [],
   "source": [
    "torch.save({\"aug3\": model_aug3.state_dict(), \"aug3_info\": model_aug3_info, \"freeze_aug3_info\": trained_aug3_info},\"aug3Model_40.tar\")"
   ]
  },
  {
   "cell_type": "markdown",
   "metadata": {},
   "source": [
    "### Round 3 Results"
   ]
  },
  {
   "cell_type": "code",
   "execution_count": null,
   "metadata": {},
   "outputs": [],
   "source": [
    "visualize_model(model_aug3, dataloader_tiny_val, class_labels, device)"
   ]
  },
  {
   "cell_type": "code",
   "execution_count": null,
   "metadata": {},
   "outputs": [],
   "source": [
    "plot_accuracies(model_aug3_info[\"train_loss\"], model_aug3_info[\"val_loss\"], [\"Train\", \"Val\"])"
   ]
  },
  {
   "cell_type": "code",
   "execution_count": null,
   "metadata": {},
   "outputs": [],
   "source": [
    "plot_accuracies(model_aug3_info[\"train_acc\"], model_aug3_info[\"val_acc\"], [\"Train\", \"Val\"])"
   ]
  },
  {
   "cell_type": "code",
   "execution_count": null,
   "metadata": {},
   "outputs": [],
   "source": [
    "truel, predl = makeAll(dataloader_test, model_aug3, device)\n",
    "plot_confusion_matrix(truel, predl, class_labels, normalize=True)\n",
    "print(\"Accuracy\", (np.sum(predl==truel)/predl.size * 100))"
   ]
  },
  {
   "cell_type": "code",
   "execution_count": null,
   "metadata": {},
   "outputs": [],
   "source": [
    "class_labels = ['blueTit', 'chaffinch', 'coalTit', 'goldfinch', 'greatTit', 'robin', 'starling']\n",
    "print(classification_report(truel, predl, target_names=class_labels))"
   ]
  },
  {
   "cell_type": "markdown",
   "metadata": {},
   "source": [
    "### On Feeder"
   ]
  },
  {
   "cell_type": "code",
   "execution_count": null,
   "metadata": {},
   "outputs": [],
   "source": [
    "truel, predl = makeAll(dataloader_feeder, model_aug3, device)\n",
    "plot_confusion_matrix(truel, predl, class_labels, normalize=True)\n",
    "print(\"Accuracy\", (np.sum(predl==truel)/predl.size * 100))"
   ]
  }
 ],
 "metadata": {
  "kernelspec": {
   "display_name": "dm",
   "language": "python",
   "name": "python3"
  },
  "language_info": {
   "codemirror_mode": {
    "name": "ipython",
    "version": 3
   },
   "file_extension": ".py",
   "mimetype": "text/x-python",
   "name": "python",
   "nbconvert_exporter": "python",
   "pygments_lexer": "ipython3",
   "version": "3.11.9"
  }
 },
 "nbformat": 4,
 "nbformat_minor": 2
}
