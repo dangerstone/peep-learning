{
 "cells": [
  {
   "cell_type": "code",
   "execution_count": 1,
   "metadata": {},
   "outputs": [],
   "source": [
    "%run setup.ipynb"
   ]
  },
  {
   "cell_type": "code",
   "execution_count": null,
   "metadata": {},
   "outputs": [],
   "source": [
    "import numpy as np\n",
    "import matplotlib.pyplot as plt\n",
    "def plot_loss(title, info, ax, ylim_top=0.5, ylim_bot=0, xlim_top=11, xlim_bot=0):\n",
    "    train = info[\"train_loss\"]\n",
    "    val = info[\"val_loss\"]\n",
    "    ax.set_title(title)\n",
    "    ax.plot(np.arange(1, len(train)+1), train, '-', label=\"train\")\n",
    "    ax.plot(np.arange(1, len(val)+1), val, '-', label=\"val\")\n",
    "    ax.set_ylim(ylim_bot, ylim_top)\n",
    "    ax.set_xlim(xlim_bot,xlim_top)\n",
    "    ax.legend()\n",
    "\n",
    "def plot_acc(title, info, ax, ylim_top=1.01, ylim_bot=0.5, xlim_top=11, xlim_bot=0):\n",
    "    train = info[\"train_acc\"]\n",
    "    val = info[\"val_acc\"]\n",
    "    ax.set_title(title)\n",
    "    ax.plot(np.arange(1, len(train)+1), train, '-', label=\"train\")\n",
    "    ax.plot(np.arange(1, len(val)+1), val, '-', label=\"val\")\n",
    "    ax.set_ylim(ylim_bot, ylim_top)\n",
    "    ax.set_xlim(xlim_bot,xlim_top)\n",
    "    ax.legend()"
   ]
  },
  {
   "cell_type": "code",
   "execution_count": null,
   "metadata": {},
   "outputs": [],
   "source": [
    "# load in the basemodel (trained while frozen)\n",
    "model_aug1fine, info_aug1fine = load_function(\"base_lr0.0005.tar\")\n",
    "unfreeze_layer4(model_aug1fine)\n",
    "\n",
    "epochs = 10\n",
    "lr = 0.0005\n",
    "optimizer = torch.optim.Adam(filter(lambda p: p.requires_grad, model_aug1fine.parameters()), lr=lr)\n",
    "\n",
    "# begin finetuning\n",
    "model_aug1fine, info_aug1fine = train_model(model_aug1fine, optimizer, num_epoch=epochs, train=dataloader_train, validation=dataloader_validation)"
   ]
  }
 ],
 "metadata": {
  "kernelspec": {
   "display_name": "Python 3",
   "language": "python",
   "name": "python3"
  },
  "language_info": {
   "codemirror_mode": {
    "name": "ipython",
    "version": 3
   },
   "file_extension": ".py",
   "mimetype": "text/x-python",
   "name": "python",
   "nbconvert_exporter": "python",
   "pygments_lexer": "ipython3",
   "version": "3.11.1"
  }
 },
 "nbformat": 4,
 "nbformat_minor": 2
}
