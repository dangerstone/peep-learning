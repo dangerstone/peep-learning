{
 "cells": [
  {
   "cell_type": "markdown",
   "metadata": {},
   "source": [
    "# Setup"
   ]
  },
  {
   "cell_type": "code",
   "execution_count": 10,
   "metadata": {},
   "outputs": [],
   "source": [
    "import torch\n",
    "from torchvision import datasets, transforms \n",
    "from sklearn.metrics import classification_report"
   ]
  },
  {
   "cell_type": "code",
   "execution_count": 11,
   "metadata": {},
   "outputs": [],
   "source": [
    "%run setup.ipynb "
   ]
  },
  {
   "cell_type": "markdown",
   "metadata": {},
   "source": [
    "# Training with augmentation\n",
    "\n",
    "Now we've trained our model and assessed its performance on the feeder data... it's not the worst, but let's see if we can't make it a bit stronger by adding augmentations.\n",
    "\n",
    "Batch size: 16, epochs: 50, optimizer: Adam "
   ]
  },
  {
   "cell_type": "markdown",
   "metadata": {},
   "source": [
    "## Augmentation round 1\n",
    "\n",
    "First, just gonna mess up the pictures a little - no sciency arguments for it other than intuitively trying to capture that the feeder images are more grainy and the birds are not always perfectly posed (hence the crop)."
   ]
  },
  {
   "cell_type": "code",
   "execution_count": 12,
   "metadata": {},
   "outputs": [],
   "source": [
    "# Defining the transforms including augmentations (and also the basic ToTensor and normalisation)\n",
    "preprocess_with_augmentation1 = transforms.Compose([\n",
    "    transforms.RandomRotation(degrees=10),\n",
    "    transforms.RandomHorizontalFlip(p=0.5),\n",
    "    transforms.RandomResizedCrop(size=224,scale=(0.3,1)), # lowerbound the scale at 30 % of og img to not get too small portions\n",
    "    \n",
    "    transforms.ToTensor(),\n",
    "    transforms.Normalize(mean=[0.485, 0.456, 0.406], std=[0.229, 0.224, 0.225]),\n",
    "])\n",
    "\n",
    "# Datasets and loaders with augmentations added \n",
    "dataset_train_aug1 = datasets.ImageFolder(PATH_TRAIN, preprocess_with_augmentation1)\n",
    "dataloader_train_aug1 = torch.utils.data.DataLoader(dataset_train_aug1, batch_size=16, shuffle=True, num_workers=4)"
   ]
  },
  {
   "cell_type": "code",
   "execution_count": 13,
   "metadata": {},
   "outputs": [],
   "source": [
    "# LOOKING AT THE AUGMENTATIONS \n",
    "\n",
    "# inputs, classes = next(iter(dataloader_train_aug1))\n",
    "# out = torchvision.utils.make_grid(inputs)\n",
    "# imshow(out, title=[class_labels[x] for x in classes])"
   ]
  },
  {
   "cell_type": "markdown",
   "metadata": {},
   "source": [
    "Load in a fresh ResNet50 that's prepped for transfer learning and optimizer"
   ]
  },
  {
   "cell_type": "code",
   "execution_count": 14,
   "metadata": {},
   "outputs": [],
   "source": [
    "untrained_model_aug1 = load_and_prep_resnet50()\n",
    "optimizer = torch.optim.Adam(untrained_model_aug1.parameters(), lr=0.001)\n",
    "#optimizer = get_optimizer(untrained_model_aug1)"
   ]
  },
  {
   "cell_type": "markdown",
   "metadata": {},
   "source": [
    "### Training"
   ]
  },
  {
   "cell_type": "code",
   "execution_count": 15,
   "metadata": {},
   "outputs": [
    {
     "name": "stdout",
     "output_type": "stream",
     "text": [
      "Epoch 1/50\n",
      "----------\n",
      "Train Loss: 1.6094 Acc: 0.5138\n",
      "Val Loss: 1.3481 Acc: 0.6635\n",
      "Epoch time 2m 35s\n",
      "----------\n",
      "\n",
      "Epoch 2/50\n",
      "----------\n",
      "Train Loss: 1.1025 Acc: 0.7701\n",
      "Val Loss: 1.0547 Acc: 0.8462\n",
      "Epoch time 2m 33s\n",
      "----------\n",
      "\n",
      "Epoch 3/50\n",
      "----------\n",
      "Train Loss: 0.8566 Acc: 0.8407\n",
      "Val Loss: 0.8686 Acc: 0.9038\n",
      "Epoch time 2m 34s\n",
      "----------\n",
      "\n",
      "Epoch 4/50\n",
      "----------\n",
      "Train Loss: 0.7307 Acc: 0.8503\n",
      "Val Loss: 0.7642 Acc: 0.9038\n",
      "Epoch time 2m 34s\n",
      "----------\n",
      "\n",
      "Epoch 5/50\n",
      "----------\n",
      "Train Loss: 0.6585 Acc: 0.8623\n",
      "Val Loss: 0.6696 Acc: 0.9135\n",
      "Epoch time 2m 35s\n",
      "----------\n",
      "\n",
      "Epoch 6/50\n",
      "----------\n",
      "Train Loss: 0.5579 Acc: 0.8826\n",
      "Val Loss: 0.6187 Acc: 0.9519\n",
      "Epoch time 2m 34s\n",
      "----------\n",
      "\n",
      "Epoch 7/50\n",
      "----------\n",
      "Train Loss: 0.5136 Acc: 0.9006\n",
      "Val Loss: 0.5741 Acc: 0.9135\n",
      "Epoch time 2m 35s\n",
      "----------\n",
      "\n",
      "Epoch 8/50\n",
      "----------\n",
      "Train Loss: 0.4632 Acc: 0.9102\n",
      "Val Loss: 0.5107 Acc: 0.9327\n",
      "Epoch time 2m 35s\n",
      "----------\n",
      "\n",
      "Epoch 9/50\n",
      "----------\n",
      "Train Loss: 0.4582 Acc: 0.9018\n",
      "Val Loss: 0.4705 Acc: 0.9327\n",
      "Epoch time 2m 35s\n",
      "----------\n",
      "\n",
      "Epoch 10/50\n",
      "----------\n",
      "Train Loss: 0.4189 Acc: 0.9078\n",
      "Val Loss: 0.4349 Acc: 0.9423\n",
      "Epoch time 2m 35s\n",
      "----------\n",
      "\n",
      "Epoch 11/50\n",
      "----------\n",
      "Train Loss: 0.4077 Acc: 0.8970\n",
      "Val Loss: 0.3906 Acc: 0.9423\n",
      "Epoch time 2m 34s\n",
      "----------\n",
      "\n",
      "Epoch 12/50\n",
      "----------\n",
      "Train Loss: 0.3808 Acc: 0.9150\n",
      "Val Loss: 0.4027 Acc: 0.9423\n",
      "Epoch time 2m 35s\n",
      "----------\n",
      "\n",
      "Epoch 13/50\n",
      "----------\n",
      "Train Loss: 0.3293 Acc: 0.9257\n",
      "Val Loss: 0.3730 Acc: 0.9423\n",
      "Epoch time 2m 34s\n",
      "----------\n",
      "\n",
      "Epoch 14/50\n",
      "----------\n",
      "Train Loss: 0.3251 Acc: 0.9353\n",
      "Val Loss: 0.3549 Acc: 0.9423\n",
      "Epoch time 2m 35s\n",
      "----------\n",
      "\n",
      "Epoch 15/50\n",
      "----------\n",
      "Train Loss: 0.3233 Acc: 0.9234\n",
      "Val Loss: 0.3205 Acc: 0.9423\n",
      "Epoch time 2m 34s\n",
      "----------\n",
      "\n",
      "Epoch 16/50\n",
      "----------\n",
      "Train Loss: 0.3239 Acc: 0.9269\n",
      "Val Loss: 0.3453 Acc: 0.9519\n",
      "Epoch time 2m 42s\n",
      "----------\n",
      "\n",
      "Epoch 17/50\n",
      "----------\n",
      "Train Loss: 0.2840 Acc: 0.9389\n",
      "Val Loss: 0.2950 Acc: 0.9423\n",
      "Epoch time 2m 35s\n",
      "----------\n",
      "\n",
      "Epoch 18/50\n",
      "----------\n",
      "Train Loss: 0.2839 Acc: 0.9293\n",
      "Val Loss: 0.3287 Acc: 0.9423\n",
      "Epoch time 2m 35s\n",
      "----------\n",
      "\n",
      "Epoch 19/50\n",
      "----------\n",
      "Train Loss: 0.2719 Acc: 0.9413\n",
      "Val Loss: 0.2953 Acc: 0.9423\n",
      "Epoch time 2m 35s\n",
      "----------\n",
      "\n",
      "Epoch 20/50\n",
      "----------\n",
      "Train Loss: 0.2582 Acc: 0.9449\n",
      "Val Loss: 0.3190 Acc: 0.9519\n",
      "Epoch time 2m 34s\n",
      "----------\n",
      "\n",
      "Epoch 21/50\n",
      "----------\n",
      "Train Loss: 0.2590 Acc: 0.9353\n",
      "Val Loss: 0.2853 Acc: 0.9519\n",
      "Epoch time 2m 35s\n",
      "----------\n",
      "\n",
      "Epoch 22/50\n",
      "----------\n",
      "Train Loss: 0.2605 Acc: 0.9341\n",
      "Val Loss: 0.2953 Acc: 0.9423\n",
      "Epoch time 2m 35s\n",
      "----------\n",
      "\n",
      "Epoch 23/50\n",
      "----------\n",
      "Train Loss: 0.2369 Acc: 0.9509\n",
      "Val Loss: 0.2556 Acc: 0.9615\n",
      "Epoch time 2m 34s\n",
      "----------\n",
      "\n",
      "Epoch 24/50\n",
      "----------\n",
      "Train Loss: 0.2548 Acc: 0.9305\n",
      "Val Loss: 0.2669 Acc: 0.9423\n",
      "Epoch time 2m 35s\n",
      "----------\n",
      "\n",
      "Epoch 25/50\n",
      "----------\n",
      "Train Loss: 0.2405 Acc: 0.9389\n",
      "Val Loss: 0.2602 Acc: 0.9423\n",
      "Epoch time 2m 35s\n",
      "----------\n",
      "\n",
      "Epoch 26/50\n",
      "----------\n",
      "Train Loss: 0.2297 Acc: 0.9437\n",
      "Val Loss: 0.2685 Acc: 0.9423\n",
      "Epoch time 2m 35s\n",
      "----------\n",
      "\n",
      "Epoch 27/50\n",
      "----------\n",
      "Train Loss: 0.2411 Acc: 0.9377\n",
      "Val Loss: 0.2281 Acc: 0.9423\n",
      "Epoch time 2m 35s\n",
      "----------\n",
      "\n",
      "Epoch 28/50\n",
      "----------\n",
      "Train Loss: 0.2133 Acc: 0.9473\n",
      "Val Loss: 0.2211 Acc: 0.9519\n",
      "Epoch time 2m 35s\n",
      "----------\n",
      "\n",
      "Epoch 29/50\n",
      "----------\n",
      "Train Loss: 0.2306 Acc: 0.9425\n",
      "Val Loss: 0.2688 Acc: 0.9423\n",
      "Epoch time 2m 35s\n",
      "----------\n",
      "\n",
      "Epoch 30/50\n",
      "----------\n",
      "Train Loss: 0.2174 Acc: 0.9533\n",
      "Val Loss: 0.2225 Acc: 0.9615\n",
      "Epoch time 2m 35s\n",
      "----------\n",
      "\n",
      "Epoch 31/50\n",
      "----------\n",
      "Train Loss: 0.2143 Acc: 0.9497\n",
      "Val Loss: 0.2435 Acc: 0.9423\n",
      "Epoch time 2m 35s\n",
      "----------\n",
      "\n",
      "Epoch 32/50\n",
      "----------\n",
      "Train Loss: 0.2110 Acc: 0.9461\n",
      "Val Loss: 0.2143 Acc: 0.9519\n",
      "Epoch time 2m 36s\n",
      "----------\n",
      "\n",
      "Epoch 33/50\n",
      "----------\n",
      "Train Loss: 0.2517 Acc: 0.9269\n",
      "Val Loss: 0.2274 Acc: 0.9327\n",
      "Epoch time 2m 34s\n",
      "----------\n",
      "\n",
      "Epoch 34/50\n",
      "----------\n",
      "Train Loss: 0.2056 Acc: 0.9557\n",
      "Val Loss: 0.2111 Acc: 0.9519\n",
      "Epoch time 2m 34s\n",
      "----------\n",
      "\n",
      "Epoch 35/50\n",
      "----------\n",
      "Train Loss: 0.2055 Acc: 0.9473\n",
      "Val Loss: 0.1888 Acc: 0.9615\n",
      "Epoch time 2m 35s\n",
      "----------\n",
      "\n",
      "Epoch 36/50\n",
      "----------\n",
      "Train Loss: 0.1874 Acc: 0.9533\n",
      "Val Loss: 0.2454 Acc: 0.9712\n",
      "Epoch time 2m 35s\n",
      "----------\n",
      "\n",
      "Epoch 37/50\n",
      "----------\n",
      "Train Loss: 0.1975 Acc: 0.9437\n",
      "Val Loss: 0.2037 Acc: 0.9519\n",
      "Epoch time 2m 34s\n",
      "----------\n",
      "\n",
      "Epoch 38/50\n",
      "----------\n",
      "Train Loss: 0.2030 Acc: 0.9461\n",
      "Val Loss: 0.2277 Acc: 0.9519\n",
      "Epoch time 2m 35s\n",
      "----------\n",
      "\n",
      "Epoch 39/50\n",
      "----------\n",
      "Train Loss: 0.1732 Acc: 0.9581\n",
      "Val Loss: 0.2039 Acc: 0.9423\n",
      "Epoch time 2m 37s\n",
      "----------\n",
      "\n",
      "Epoch 40/50\n",
      "----------\n",
      "Train Loss: 0.1922 Acc: 0.9449\n",
      "Val Loss: 0.1952 Acc: 0.9615\n",
      "Epoch time 2m 38s\n",
      "----------\n",
      "\n",
      "Epoch 41/50\n",
      "----------\n",
      "Train Loss: 0.1816 Acc: 0.9521\n",
      "Val Loss: 0.1982 Acc: 0.9615\n",
      "Epoch time 19m 21s\n",
      "----------\n",
      "\n",
      "Epoch 42/50\n",
      "----------\n",
      "Train Loss: 0.1789 Acc: 0.9557\n",
      "Val Loss: 0.1988 Acc: 0.9519\n",
      "Epoch time 2m 33s\n",
      "----------\n",
      "\n",
      "Epoch 43/50\n",
      "----------\n",
      "Train Loss: 0.1505 Acc: 0.9641\n",
      "Val Loss: 0.1925 Acc: 0.9519\n",
      "Epoch time 2m 35s\n",
      "----------\n",
      "\n",
      "Epoch 44/50\n",
      "----------\n",
      "Train Loss: 0.1560 Acc: 0.9629\n",
      "Val Loss: 0.1816 Acc: 0.9615\n",
      "Epoch time 2m 33s\n",
      "----------\n",
      "\n",
      "Epoch 45/50\n",
      "----------\n",
      "Train Loss: 0.1814 Acc: 0.9557\n",
      "Val Loss: 0.2128 Acc: 0.9519\n",
      "Epoch time 2m 35s\n",
      "----------\n",
      "\n",
      "Epoch 46/50\n",
      "----------\n",
      "Train Loss: 0.1582 Acc: 0.9593\n",
      "Val Loss: 0.2067 Acc: 0.9712\n",
      "Epoch time 2m 35s\n",
      "----------\n",
      "\n",
      "Epoch 47/50\n",
      "----------\n",
      "Train Loss: 0.1805 Acc: 0.9557\n",
      "Val Loss: 0.1979 Acc: 0.9519\n",
      "Epoch time 2m 37s\n",
      "----------\n",
      "\n",
      "Epoch 48/50\n",
      "----------\n",
      "Train Loss: 0.1459 Acc: 0.9665\n",
      "Val Loss: 0.1830 Acc: 0.9712\n",
      "Epoch time 2m 35s\n",
      "----------\n",
      "\n",
      "Epoch 49/50\n",
      "----------\n",
      "Train Loss: 0.1468 Acc: 0.9653\n",
      "Val Loss: 0.1884 Acc: 0.9712\n",
      "Epoch time 2m 35s\n",
      "----------\n",
      "\n",
      "Epoch 50/50\n",
      "----------\n",
      "Train Loss: 0.1632 Acc: 0.9665\n",
      "Val Loss: 0.2034 Acc: 0.9615\n",
      "Epoch time 2m 35s\n",
      "----------\n",
      "\n",
      "Training complete in 145m 54s\n",
      "Best model had accuracy ${}, loss ${} at epoch ${} tensor(0.9712, dtype=torch.float64) 0.2454011979011389 36\n",
      "Validation accuracies:\n",
      "[0.6634615384615384, 0.8461538461538461, 0.9038461538461539, 0.9038461538461539, 0.9134615384615384, 0.9519230769230769, 0.9134615384615384, 0.9326923076923077, 0.9326923076923077, 0.9423076923076923, 0.9423076923076923, 0.9423076923076923, 0.9423076923076923, 0.9423076923076923, 0.9423076923076923, 0.9519230769230769, 0.9423076923076923, 0.9423076923076923, 0.9423076923076923, 0.9519230769230769, 0.9519230769230769, 0.9423076923076923, 0.9615384615384616, 0.9423076923076923, 0.9423076923076923, 0.9423076923076923, 0.9423076923076923, 0.9519230769230769, 0.9423076923076923, 0.9615384615384616, 0.9423076923076923, 0.9519230769230769, 0.9326923076923077, 0.9519230769230769, 0.9615384615384616, 0.9711538461538461, 0.9519230769230769, 0.9519230769230769, 0.9423076923076923, 0.9615384615384616, 0.9615384615384616, 0.9519230769230769, 0.9519230769230769, 0.9615384615384616, 0.9519230769230769, 0.9711538461538461, 0.9519230769230769, 0.9711538461538461, 0.9711538461538461, 0.9615384615384616]\n",
      "Training accuracies:\n",
      "[0.5137724550898204, 0.770059880239521, 0.8407185628742515, 0.8502994011976048, 0.8622754491017964, 0.8826347305389222, 0.9005988023952096, 0.9101796407185628, 0.9017964071856287, 0.9077844311377246, 0.8970059880239521, 0.9149700598802395, 0.925748502994012, 0.9353293413173652, 0.9233532934131736, 0.9269461077844311, 0.9389221556886228, 0.9293413173652695, 0.9413173652694611, 0.9449101796407186, 0.9353293413173652, 0.9341317365269461, 0.9508982035928144, 0.9305389221556887, 0.9389221556886228, 0.9437125748502994, 0.9377245508982036, 0.9473053892215569, 0.9425149700598803, 0.9532934131736527, 0.9497005988023952, 0.9461077844311377, 0.9269461077844311, 0.9556886227544911, 0.9473053892215569, 0.9532934131736527, 0.9437125748502994, 0.9461077844311377, 0.9580838323353293, 0.9449101796407186, 0.9520958083832335, 0.9556886227544911, 0.9640718562874252, 0.962874251497006, 0.9556886227544911, 0.9592814371257485, 0.9556886227544911, 0.9664670658682635, 0.9652694610778443, 0.9664670658682635]\n"
     ]
    }
   ],
   "source": [
    "trained_model_aug1, trained_aug1_info = train_model(model=untrained_model_aug1, optimizer=optimizer, num_epoch=50, train=dataloader_train_aug1)"
   ]
  },
  {
   "cell_type": "code",
   "execution_count": 16,
   "metadata": {},
   "outputs": [],
   "source": [
    "torch.save({\"aug\": trained_model_aug1.state_dict(), \"aug_info\": trained_aug1_info},\"aug1Model_50.tar\")"
   ]
  },
  {
   "cell_type": "markdown",
   "metadata": {},
   "source": [
    "### Training Results"
   ]
  },
  {
   "cell_type": "code",
   "execution_count": 17,
   "metadata": {},
   "outputs": [
    {
     "data": {
      "image/png": "[encoded data removed]",
      "text/plain": [
       "<Figure size 600x600 with 1 Axes>"
      ]
     },
     "metadata": {},
     "output_type": "display_data"
    }
   ],
   "source": [
    "plot_loss(trained_aug1_info[\"train_loss\"], trained_aug1_info[\"val_loss\"], [\"Train\", \"Val\"])"
   ]
  },
  {
   "cell_type": "code",
   "execution_count": 18,
   "metadata": {},
   "outputs": [
    {
     "name": "stdout",
     "output_type": "stream",
     "text": [
      "Accuracy:  95.23809523809523\n",
      "              precision    recall  f1-score   support\n",
      "\n",
      "     blueTit       0.94      1.00      0.97        15\n",
      "   chaffinch       0.83      1.00      0.91        15\n",
      "     coalTit       1.00      0.93      0.97        15\n",
      "   goldfinch       1.00      0.93      0.97        15\n",
      "    greatTit       1.00      0.93      0.97        15\n",
      "       robin       1.00      0.87      0.93        15\n",
      "    starling       0.94      1.00      0.97        15\n",
      "\n",
      "    accuracy                           0.95       105\n",
      "   macro avg       0.96      0.95      0.95       105\n",
      "weighted avg       0.96      0.95      0.95       105\n",
      "\n"
     ]
    }
   ],
   "source": [
    "truel, predl = makeAll(dataloader_test, trained_model_aug1, device)\n",
    "print(\"Accuracy: \", (np.sum(predl==truel)/predl.size * 100))\n",
    "print(classification_report(truel, predl, target_names=class_labels))"
   ]
  },
  {
   "cell_type": "markdown",
   "metadata": {},
   "source": [
    "### Finetuning"
   ]
  },
  {
   "cell_type": "code",
   "execution_count": null,
   "metadata": {},
   "outputs": [],
   "source": [
    "unfreeze_layers(trained_model_aug1)\n",
    "model_aug1, model_aug1_info = train_model(model=trained_model_aug1, optimizer=optimizer, num_epoch=50, train=dataloader_train_aug1)"
   ]
  },
  {
   "cell_type": "code",
   "execution_count": null,
   "metadata": {},
   "outputs": [],
   "source": [
    "torch.save({\"aug1\": model_aug1.state_dict(), \"aug1_info\": model_aug1_info, \"freeze_aug1_info\": trained_aug1_info},\"aug1Model_60.tar\")"
   ]
  },
  {
   "cell_type": "markdown",
   "metadata": {},
   "source": [
    "### Round 1 results"
   ]
  },
  {
   "cell_type": "code",
   "execution_count": null,
   "metadata": {},
   "outputs": [],
   "source": [
    "visualize_model(model_aug1, dataloader_tiny_val, class_labels, device)"
   ]
  },
  {
   "cell_type": "code",
   "execution_count": null,
   "metadata": {},
   "outputs": [],
   "source": [
    "plot_accuracies(model_aug1_info[\"train_loss\"], model_aug1_info[\"val_loss\"], [\"Train\", \"Val\"])"
   ]
  },
  {
   "cell_type": "code",
   "execution_count": null,
   "metadata": {},
   "outputs": [],
   "source": [
    "plot_accuracies(model_aug1_info[\"train_acc\"], model_aug1_info[\"val_acc\"], [\"Train\", \"Val\"])"
   ]
  },
  {
   "cell_type": "code",
   "execution_count": null,
   "metadata": {},
   "outputs": [],
   "source": [
    "truel, predl = makeAll(dataloader_test, model_aug1, device)\n",
    "plot_confusion_matrix(truel, predl, class_labels, normalize=True)\n",
    "print(\"Accuracy\", (np.sum(predl==truel)/predl.size * 100))\n"
   ]
  },
  {
   "cell_type": "code",
   "execution_count": null,
   "metadata": {},
   "outputs": [],
   "source": [
    "print(classification_report(truel, predl, target_names=class_labels))"
   ]
  },
  {
   "cell_type": "markdown",
   "metadata": {},
   "source": [
    "### On feeder"
   ]
  },
  {
   "cell_type": "code",
   "execution_count": null,
   "metadata": {},
   "outputs": [],
   "source": [
    "truel, predl = makeAll(dataloader_feeder, model_aug1, device)\n",
    "plot_confusion_matrix(truel, predl, class_labels, normalize=True)\n",
    "print(\"Accuracy\", (np.sum(predl==truel)/predl.size * 100))\n"
   ]
  },
  {
   "cell_type": "markdown",
   "metadata": {},
   "source": [
    "## Augmentation Round 2\n",
    "\n",
    "Add blur and colorjitter"
   ]
  },
  {
   "cell_type": "code",
   "execution_count": null,
   "metadata": {},
   "outputs": [],
   "source": [
    "# Defining the transforms including augmentations (and also the basic ToTensor and normalisation)\n",
    "preprocess_with_augmentation2 = transforms.Compose([\n",
    "    transforms.ColorJitter(brightness=0.1), # Added\n",
    "    transforms.GaussianBlur(kernel_size=(5,5), sigma=(7, 9)), # Added\n",
    "    transforms.RandomRotation(degrees=10),\n",
    "    transforms.RandomHorizontalFlip(p=0.5),\n",
    "    transforms.RandomResizedCrop(size=224,scale=(0.3,1)), # lowerbound the scale at 30 % of og img to not get too small portions\n",
    "    \n",
    "    transforms.ToTensor(),\n",
    "    transforms.Normalize(mean=[0.485, 0.456, 0.406], std=[0.229, 0.224, 0.225]),\n",
    "])\n",
    "\n",
    "# Datasets and loaders with augmentations added \n",
    "dataset_train_aug2 = datasets.ImageFolder(PATH_TRAIN, preprocess_with_augmentation2)\n",
    "dataloader_train_aug2 = torch.utils.data.DataLoader(dataset_train_aug2, batch_size=16, shuffle=True, num_workers=2)"
   ]
  },
  {
   "cell_type": "markdown",
   "metadata": {},
   "source": [
    "Load in a fresh ResNet50 that's prepped for transfer learning"
   ]
  },
  {
   "cell_type": "code",
   "execution_count": null,
   "metadata": {},
   "outputs": [],
   "source": [
    "untrained_model_aug2 = load_and_prep_resnet50()\n",
    "optimizer = torch.optim.Adam(untrained_model_aug2.parameters(), lr=0.001)\n",
    "#optimizer = get_optimizer(untrained_model_aug2) "
   ]
  },
  {
   "cell_type": "markdown",
   "metadata": {},
   "source": [
    "### Training"
   ]
  },
  {
   "cell_type": "code",
   "execution_count": null,
   "metadata": {},
   "outputs": [],
   "source": [
    "trained_model_aug2, trained_aug2_info = train_model(model=untrained_model_aug2, optimizer=optimizer, num_epoch=50, train=dataloader_train_aug2) "
   ]
  },
  {
   "cell_type": "code",
   "execution_count": null,
   "metadata": {},
   "outputs": [],
   "source": [
    "torch.save({\"aug\": trained_model_aug2.state_dict(), \"aug_info\": trained_aug2_info},\"aug2Model_50.tar\")"
   ]
  },
  {
   "cell_type": "markdown",
   "metadata": {},
   "source": [
    "### Training Results"
   ]
  },
  {
   "cell_type": "code",
   "execution_count": null,
   "metadata": {},
   "outputs": [],
   "source": [
    "plot_loss(trained_aug2_info[\"train_loss\"], trained_aug2_info[\"val_loss\"], [\"Train\", \"Val\"])"
   ]
  },
  {
   "cell_type": "code",
   "execution_count": null,
   "metadata": {},
   "outputs": [],
   "source": [
    "truel, predl = makeAll(dataloader_test, trained_model_aug2, device)\n",
    "print(\"Accuracy: \", (np.sum(predl==truel)/predl.size * 100))\n",
    "print(classification_report(truel, predl, target_names=class_labels))"
   ]
  },
  {
   "cell_type": "markdown",
   "metadata": {},
   "source": [
    "### Finetuning"
   ]
  },
  {
   "cell_type": "code",
   "execution_count": null,
   "metadata": {},
   "outputs": [],
   "source": [
    "unfreeze_layers(trained_model_aug2)\n",
    "model_aug2, model_aug2_info = train_model(model=trained_model_aug2, optimizer=optimizer, num_epoch=50, train=dataloader_train_aug2)"
   ]
  },
  {
   "cell_type": "code",
   "execution_count": null,
   "metadata": {},
   "outputs": [],
   "source": [
    "torch.save({\"aug2\": model_aug2.state_dict(), \"aug2_info\": model_aug2_info, \"freeze_aug1_info\": trained_aug2_info},\"aug2Model_40.tar\")"
   ]
  },
  {
   "cell_type": "markdown",
   "metadata": {},
   "source": [
    "### Round 2 Results"
   ]
  },
  {
   "cell_type": "code",
   "execution_count": null,
   "metadata": {},
   "outputs": [],
   "source": [
    "visualize_model(model_aug2, dataloader_tiny_val, class_labels, device)"
   ]
  },
  {
   "cell_type": "code",
   "execution_count": null,
   "metadata": {},
   "outputs": [],
   "source": [
    "plot_accuracies(model_aug2_info[\"train_loss\"], model_aug2_info[\"val_loss\"], [\"Train\", \"Val\"])"
   ]
  },
  {
   "cell_type": "code",
   "execution_count": null,
   "metadata": {},
   "outputs": [],
   "source": [
    "plot_accuracies(model_aug2_info[\"train_acc\"], model_aug2_info[\"val_acc\"], [\"Train\", \"Val\"])"
   ]
  },
  {
   "cell_type": "code",
   "execution_count": null,
   "metadata": {},
   "outputs": [],
   "source": [
    "truel, predl = makeAll(dataloader_test, model_aug2, device)\n",
    "plot_confusion_matrix(truel, predl, class_labels, normalize=True)\n",
    "print(\"Accuracy\", (np.sum(predl==truel)/predl.size * 100))"
   ]
  },
  {
   "cell_type": "code",
   "execution_count": null,
   "metadata": {},
   "outputs": [],
   "source": [
    "class_labels = ['blueTit', 'chaffinch', 'coalTit', 'goldfinch', 'greatTit', 'robin', 'starling']\n",
    "print(classification_report(truel, predl, target_names=class_labels))"
   ]
  },
  {
   "cell_type": "markdown",
   "metadata": {},
   "source": [
    "### On feeder"
   ]
  },
  {
   "cell_type": "code",
   "execution_count": null,
   "metadata": {},
   "outputs": [],
   "source": [
    "truel, predl = makeAll(dataloader_feeder, model_aug2, device)\n",
    "plot_confusion_matrix(truel, predl, class_labels, normalize=True)\n",
    "print(\"Accuracy\", (np.sum(predl==truel)/predl.size * 100))"
   ]
  },
  {
   "cell_type": "markdown",
   "metadata": {},
   "source": [
    "## Augmentation round 3\n",
    "\n",
    "Try without jitter"
   ]
  },
  {
   "cell_type": "code",
   "execution_count": null,
   "metadata": {},
   "outputs": [],
   "source": [
    "# Defining the transforms including augmentations (and also the basic ToTensor and normalisation)\n",
    "preprocess_with_augmentation3 = transforms.Compose([\n",
    "    transforms.GaussianBlur(kernel_size=(5,5), sigma=(7, 9)), # Added\n",
    "    transforms.RandomRotation(degrees=10),\n",
    "    transforms.RandomHorizontalFlip(p=0.5),\n",
    "    transforms.RandomResizedCrop(size=224,scale=(0.3,1)), # lowerbound the scale at 30 % of og img to not get too small portions\n",
    "\n",
    "    transforms.ToTensor(),\n",
    "    transforms.Normalize(mean=[0.485, 0.456, 0.406], std=[0.229, 0.224, 0.225]),\n",
    "])\n",
    "\n",
    "# Datasets and loaders with augmentations added \n",
    "dataset_train_aug3 = datasets.ImageFolder(PATH_TRAIN, preprocess_with_augmentation3)\n",
    "dataloader_train_aug3 = torch.utils.data.DataLoader(dataset_train_aug3, batch_size=16, shuffle=True, num_workers=2)"
   ]
  },
  {
   "cell_type": "markdown",
   "metadata": {},
   "source": [
    "Load in a fresh ResNet50 that's prepped for transfer learning"
   ]
  },
  {
   "cell_type": "code",
   "execution_count": null,
   "metadata": {},
   "outputs": [],
   "source": [
    "untrained_model_aug3 = load_and_prep_resnet50()\n",
    "optimizer = torch.optim.Adam(untrained_model_aug3.parameters(), lr=0.001)\n",
    "# optimizer = get_optimizer(untrained_model_aug3) "
   ]
  },
  {
   "cell_type": "markdown",
   "metadata": {},
   "source": [
    "### Training\n",
    "First with the frozen layers, then unfreeze for finetuning"
   ]
  },
  {
   "cell_type": "code",
   "execution_count": null,
   "metadata": {},
   "outputs": [],
   "source": [
    "trained_model_aug3, trained_aug3_info = train_model(model=untrained_model_aug3, optimizer=optimizer, num_epoch=50, train=dataloader_train_aug3) "
   ]
  },
  {
   "cell_type": "code",
   "execution_count": null,
   "metadata": {},
   "outputs": [],
   "source": [
    "torch.save({\"aug\": trained_model_aug3.state_dict(), \"aug_info\": trained_aug3_info},\"aug3Model_50.tar\")"
   ]
  },
  {
   "cell_type": "markdown",
   "metadata": {},
   "source": [
    "### Training Results"
   ]
  },
  {
   "cell_type": "code",
   "execution_count": null,
   "metadata": {},
   "outputs": [],
   "source": [
    "plot_loss(trained_aug3_info[\"train_loss\"], trained_aug3_info[\"val_loss\"], [\"Train\", \"Val\"])"
   ]
  },
  {
   "cell_type": "code",
   "execution_count": null,
   "metadata": {},
   "outputs": [],
   "source": [
    "truel, predl = makeAll(dataloader_test, trained_model_aug3, device)\n",
    "print(\"Accuracy: \", (np.sum(predl==truel)/predl.size * 100))\n",
    "print(classification_report(truel, predl, target_names=class_labels))"
   ]
  },
  {
   "cell_type": "markdown",
   "metadata": {},
   "source": [
    "### Finetuning"
   ]
  },
  {
   "cell_type": "code",
   "execution_count": null,
   "metadata": {},
   "outputs": [],
   "source": [
    "unfreeze_layers(trained_model_aug3)\n",
    "model_aug3, model_aug3_info = train_model(model=trained_model_aug3, optimizer=optimizer, num_epoch=50, train=dataloader_train_aug3)"
   ]
  },
  {
   "cell_type": "code",
   "execution_count": null,
   "metadata": {},
   "outputs": [],
   "source": [
    "torch.save({\"aug3\": model_aug3.state_dict(), \"aug3_info\": model_aug3_info, \"freeze_aug3_info\": trained_aug3_info},\"aug3Model_40.tar\")"
   ]
  },
  {
   "cell_type": "markdown",
   "metadata": {},
   "source": [
    "### Round 3 Results"
   ]
  },
  {
   "cell_type": "code",
   "execution_count": null,
   "metadata": {},
   "outputs": [],
   "source": [
    "visualize_model(model_aug3, dataloader_tiny_val, class_labels, device)"
   ]
  },
  {
   "cell_type": "code",
   "execution_count": null,
   "metadata": {},
   "outputs": [],
   "source": [
    "plot_accuracies(model_aug3_info[\"train_loss\"], model_aug3_info[\"val_loss\"], [\"Train\", \"Val\"])"
   ]
  },
  {
   "cell_type": "code",
   "execution_count": null,
   "metadata": {},
   "outputs": [],
   "source": [
    "plot_accuracies(model_aug3_info[\"train_acc\"], model_aug3_info[\"val_acc\"], [\"Train\", \"Val\"])"
   ]
  },
  {
   "cell_type": "code",
   "execution_count": null,
   "metadata": {},
   "outputs": [],
   "source": [
    "truel, predl = makeAll(dataloader_test, model_aug3, device)\n",
    "plot_confusion_matrix(truel, predl, class_labels, normalize=True)\n",
    "print(\"Accuracy\", (np.sum(predl==truel)/predl.size * 100))"
   ]
  },
  {
   "cell_type": "code",
   "execution_count": null,
   "metadata": {},
   "outputs": [],
   "source": [
    "class_labels = ['blueTit', 'chaffinch', 'coalTit', 'goldfinch', 'greatTit', 'robin', 'starling']\n",
    "print(classification_report(truel, predl, target_names=class_labels))"
   ]
  },
  {
   "cell_type": "markdown",
   "metadata": {},
   "source": [
    "### On Feeder"
   ]
  },
  {
   "cell_type": "code",
   "execution_count": null,
   "metadata": {},
   "outputs": [],
   "source": [
    "truel, predl = makeAll(dataloader_feeder, model_aug3, device)\n",
    "plot_confusion_matrix(truel, predl, class_labels, normalize=True)\n",
    "print(\"Accuracy\", (np.sum(predl==truel)/predl.size * 100))"
   ]
  }
 ],
 "metadata": {
  "kernelspec": {
   "display_name": "dm",
   "language": "python",
   "name": "python3"
  },
  "language_info": {
   "codemirror_mode": {
    "name": "ipython",
    "version": 3
   },
   "file_extension": ".py",
   "mimetype": "text/x-python",
   "name": "python",
   "nbconvert_exporter": "python",
   "pygments_lexer": "ipython3",
   "version": "3.11.9"
  }
 },
 "nbformat": 4,
 "nbformat_minor": 2
}
