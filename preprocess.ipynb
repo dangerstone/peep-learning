{
 "cells": [
  {
   "cell_type": "markdown",
   "metadata": {},
   "source": [
    "# Data preprocessing"
   ]
  },
  {
   "cell_type": "code",
   "execution_count": 10,
   "metadata": {},
   "outputs": [],
   "source": [
    "import numpy as np\n",
    "import torch\n",
    "import pandas as pd\n",
    "\n",
    "import matplotlib.pyplot as plt\n",
    "import enum\n",
    "\n",
    "import os\n",
    "from PIL import Image\n",
    "import cv2 #pip install opencv-python\n",
    "import torchvision.transforms as transforms\n",
    "import matplotlib.image as mpimg"
   ]
  },
  {
   "cell_type": "markdown",
   "metadata": {},
   "source": [
    "## Paths and reading things :)"
   ]
  },
  {
   "cell_type": "markdown",
   "metadata": {},
   "source": [
    "### Declaring variables"
   ]
  },
  {
   "cell_type": "code",
   "execution_count": 11,
   "metadata": {},
   "outputs": [],
   "source": [
    "PATHbirdsWithBackground = \"just-bird-data/withBackground\"\n",
    "PATHbirdsWithoutBackground = \"just-bird-data/withoutBackground\"\n",
    "PATHfeeder = \"feeder-data\"\n",
    "\n",
    "class Birds(enum.Enum):\n",
    "    BLUETIT = \"blueTit\"\n",
    "    CHAFFINCH = \"chaffinch\"\n",
    "    COALTIT = \"coalTit\"\n",
    "    GOLDFINCH = \"goldfinch\"\n",
    "    GREATTIT = \"greatTit\"\n",
    "    ROBIN = \"robin\"\n",
    "    STARLING = \"starling\"\n",
    "\n",
    "    def __str__(self) -> str:\n",
    "        return super().value"
   ]
  },
  {
   "cell_type": "markdown",
   "metadata": {},
   "source": [
    "### Display image (plt)"
   ]
  },
  {
   "cell_type": "code",
   "execution_count": 12,
   "metadata": {},
   "outputs": [],
   "source": [
    "# plt.figure()\n",
    "# first = PATHbirdsWithBackground + \"/\" + str(Birds.BLUETIT) + \"/(1).jpg\"\n",
    "\n",
    "# Read Images\n",
    "# img = mpimg.imread(first)\n",
    " \n",
    "# Output Images\n",
    "# plt.imshow(img)\n",
    "\n",
    "def simpleShowImage(img_path):\n",
    "    plt.figure()\n",
    "    plt.imshow(mpimg.imread(img_path))"
   ]
  },
  {
   "cell_type": "markdown",
   "metadata": {},
   "source": [
    "## Resizing images to 224x224 px\n",
    "\n",
    "Note: the feeder images are already 224 x 224 px"
   ]
  },
  {
   "cell_type": "code",
   "execution_count": 13,
   "metadata": {},
   "outputs": [],
   "source": [
    "#path = '/your/images/folder/', \n",
    "def resize(path, width, height):\n",
    "\tdirs = os.listdir( path )\n",
    "\tfor item in dirs: #dirs is not defined mby dirs = os.listdir( path )\n",
    "\t\tif os.path.isfile(path + item):\n",
    "\t\t\timg = Image.open(path + item)\n",
    "\t\t\tnew_image = img.resize((width, height))\n",
    "\t\t\t# new_file_name = 'resized-' + str(width) + \"-\" + item\n",
    "\t\t\t# new_image.save(path + new_file_name)\n",
    "\t\t\tnew_image.save(path + item)"
   ]
  },
  {
   "cell_type": "code",
   "execution_count": 14,
   "metadata": {},
   "outputs": [],
   "source": [
    "# for bird in Birds:\n",
    "#     resize(PATHbirdsWithoutBackground + \"/\" + bird.value + \"/\" , 224, 224)\n",
    "#     resize(PATHbirdsWithBackground + \"/\" + bird.value + \"/\" , 224, 224)"
   ]
  },
  {
   "cell_type": "code",
   "execution_count": 15,
   "metadata": {},
   "outputs": [],
   "source": [
    "# remove the prev resized files where we saved them as new files\n",
    "# for bird in Birds:\n",
    "#     path =  PATHbirdsWithBackground + \"/\" + bird.value + \"/\" \n",
    "#     dirs = os.listdir( path )\n",
    "#     for item in dirs:\n",
    "#         if os.path.isfile(path + item):\n",
    "#             if \"resized\" in item:\n",
    "#                 os.remove(path+item)"
   ]
  },
  {
   "cell_type": "code",
   "execution_count": 16,
   "metadata": {},
   "outputs": [],
   "source": [
    "# simpleShowImage(PATHbirdsWithoutBackground + \"/\" + str(Birds.COALTIT) + \"/(42).jpg\")"
   ]
  },
  {
   "cell_type": "markdown",
   "metadata": {},
   "source": [
    "## Convert image to tensor"
   ]
  },
  {
   "cell_type": "markdown",
   "metadata": {},
   "source": [
    "\n",
    "### Using cv2"
   ]
  },
  {
   "cell_type": "code",
   "execution_count": 17,
   "metadata": {},
   "outputs": [],
   "source": [
    "# image = cv2.imread(first)\n",
    "\n",
    "# Convert BGR image to RGB image\n",
    "# image = cv2.cvtColor(image, cv2.COLOR_BGR2RGB)\n",
    "# print(image.shape)\n",
    "# plt.imshow(image)\n",
    "# Define a transform to convert the image to torch tensor\n",
    "# transform = transforms.Compose([\n",
    "    # transforms.ToTensor()\n",
    "# ])\n",
    "# Convert the image to Torch tensor\n",
    "# tensor = transform(image)\n",
    "# print the converted image tensor\n",
    "# print(tensor)\n",
    "# print(tensor.shape)\n",
    "\n",
    "def cv2ReadImageToTensor(img_path):\n",
    "    image = cv2.imread(img_path)\n",
    "    image = cv2.cvtColor(image, cv2.COLOR_BGR2RGB)\n",
    "    transform = transforms.Compose([transforms.ToTensor()])\n",
    "    tensor = transform(image)\n",
    "    return tensor"
   ]
  }
 ],
 "metadata": {
  "kernelspec": {
   "display_name": "Python 3",
   "language": "python",
   "name": "python3"
  },
  "language_info": {
   "codemirror_mode": {
    "name": "ipython",
    "version": 3
   },
   "file_extension": ".py",
   "mimetype": "text/x-python",
   "name": "python",
   "nbconvert_exporter": "python",
   "pygments_lexer": "ipython3",
   "version": "3.10.4"
  }
 },
 "nbformat": 4,
 "nbformat_minor": 2
}
