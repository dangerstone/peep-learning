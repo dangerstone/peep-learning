{
 "cells": [
  {
   "cell_type": "code",
   "execution_count": 15,
   "metadata": {},
   "outputs": [],
   "source": [
    "import numpy as np\n",
    "import torch\n",
    "import matplotlib.pyplot as plt\n",
    "from sklearn.metrics import confusion_matrix\n",
    "from sklearn.utils.multiclass import unique_labels\n",
    "\n",
    "def plot_confusion_matrix(true_labels, pred_labels, class_labels, normalize=False, verbose=False):\n",
    "    \"\"\"\n",
    "    Computes and plots the confusion matrix of given model on provided data (as a dataloader). \n",
    "    May be set to normalize.\n",
    "    \"\"\"\n",
    "    # compute confusion matrix\n",
    "\n",
    "    cm = confusion_matrix(true_labels, pred_labels)\n",
    "    print(cm)\n",
    "    if normalize: cm = cm.astype('float') / cm.sum(axis=1)[:, np.newaxis]\n",
    "\n",
    "    # start plotting\n",
    "    fig, ax = plt.subplots(figsize=(8,8))\n",
    "    im = ax.imshow(cm, cmap=plt.cm.Greens)\n",
    "    ax.figure.colorbar(im, ax=ax)\n",
    "    # display and label all ticks, set titles\n",
    "    ax.set(xticks=np.arange(cm.shape[1]),\n",
    "           yticks=np.arange(cm.shape[0]),\n",
    "           xticklabels=class_labels, yticklabels=class_labels,\n",
    "           title=\"Normalized confusion matrix\" if normalize else \"Confusion matrix\", \n",
    "           ylabel=\"True label\",\n",
    "           xlabel=\"Predicted label\"\n",
    "           )\n",
    "    # rotate labels\n",
    "    plt.setp(ax.get_xticklabels(), rotation=45, ha=\"right\", rotation_mode=\"anchor\")\n",
    "    \n",
    "    # Add annotations in each cell\n",
    "    fmt = '.2f' if normalize else 'd' # format based on normalize setting\n",
    "    thresh = cm.max() / 2. # when to switch from black to white text\n",
    "    for i in range(cm.shape[0]):\n",
    "        for j in range(cm.shape[1]):\n",
    "            ax.text(j, i, format(cm[i, j], fmt),\n",
    "                    ha=\"center\", va=\"center\",\n",
    "                    color=\"white\" if cm[i, j] > thresh else \"black\")\n",
    "    \n",
    "    fig.tight_layout()\n",
    "    return ax"
   ]
  },
  {
   "cell_type": "code",
   "execution_count": 1,
   "metadata": {},
   "outputs": [],
   "source": [
    "def plot_accuracies(train_accs, test_accs, legends):\n",
    "    num_epochs = len(train_accs)\n",
    "    plt.figure(figsize=(6,6))\n",
    "    plt.plot(np.arange(1,num_epochs+1), train_accs,'-')\n",
    "    plt.plot(np.arange(1,num_epochs+1), test_accs,'-')\n",
    "    plt.xlabel('Epoch')\n",
    "    plt.ylabel('Accuracy')\n",
    "    plt.legend(legends)\n",
    "    plt.title('Accuracy/Epoch')\n",
    "    plt.show()"
   ]
  },
  {
   "cell_type": "code",
   "execution_count": null,
   "metadata": {},
   "outputs": [],
   "source": [
    "def plot_loss(train_loss, val_loss, legends=[\"Train\", \"Val\"]):\n",
    "    num_epochs = len(train_loss)\n",
    "    plt.figure(figsize=(6,6))\n",
    "    plt.plot(np.arange(1,num_epochs+1), train_loss,'-')\n",
    "    plt.plot(np.arange(1,num_epochs+1), val_loss,'-')\n",
    "    plt.xlabel('Epoch')\n",
    "    plt.ylabel('Loss')\n",
    "    plt.legend(legends)\n",
    "    plt.title('Loss/Epoch')\n",
    "    plt.show()"
   ]
  }
 ],
 "metadata": {
  "kernelspec": {
   "display_name": "Python 3",
   "language": "python",
   "name": "python3"
  },
  "language_info": {
   "codemirror_mode": {
    "name": "ipython",
    "version": 3
   },
   "file_extension": ".py",
   "mimetype": "text/x-python",
   "name": "python",
   "nbconvert_exporter": "python",
   "pygments_lexer": "ipython3",
   "version": "3.11.1"
  }
 },
 "nbformat": 4,
 "nbformat_minor": 2
}
