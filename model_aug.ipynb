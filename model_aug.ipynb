{
 "cells": [
  {
   "cell_type": "markdown",
   "metadata": {},
   "source": [
    "# Setup"
   ]
  },
  {
   "cell_type": "code",
   "execution_count": null,
   "metadata": {},
   "outputs": [],
   "source": [
    "import torch\n",
    "from torchvision import datasets, transforms \n",
    "from sklearn.metrics import classification_report"
   ]
  },
  {
   "cell_type": "code",
   "execution_count": null,
   "metadata": {},
   "outputs": [],
   "source": [
    "%run setup.ipynb "
   ]
  },
  {
   "cell_type": "markdown",
   "metadata": {},
   "source": [
    "# Training with augmentation\n",
    "\n",
    "Now we've trained our model and assessed its performance on the feeder data... it's not the worst, but let's see if we can't make it a bit stronger by adding augmentations.\n",
    "\n",
    "Batch size: 16, epochs: 50, optimizer: Adam "
   ]
  },
  {
   "cell_type": "markdown",
   "metadata": {},
   "source": [
    "## Augmentation round 1\n",
    "\n",
    "First, just gonna mess up the pictures a little - no sciency arguments for it other than intuitively trying to capture that the feeder images are more grainy and the birds are not always perfectly posed (hence the crop)."
   ]
  },
  {
   "cell_type": "code",
   "execution_count": null,
   "metadata": {},
   "outputs": [],
   "source": [
    "# Defining the transforms including augmentations (and also the basic ToTensor and normalisation)\n",
    "preprocess_with_augmentation1 = transforms.Compose([\n",
    "    transforms.RandomRotation(degrees=10),\n",
    "    transforms.RandomHorizontalFlip(p=0.5),\n",
    "    transforms.RandomResizedCrop(size=224,scale=(0.3,1)), # lowerbound the scale at 30 % of og img to not get too small portions\n",
    "    \n",
    "    transforms.ToTensor(),\n",
    "    transforms.Normalize(mean=[0.485, 0.456, 0.406], std=[0.229, 0.224, 0.225]),\n",
    "])\n",
    "\n",
    "# Datasets and loaders with augmentations added \n",
    "dataset_train_aug1 = datasets.ImageFolder(PATH_TRAIN, preprocess_with_augmentation1)\n",
    "dataloader_train_aug1 = torch.utils.data.DataLoader(dataset_train_aug1, batch_size=16, shuffle=True, num_workers=4)"
   ]
  },
  {
   "cell_type": "code",
   "execution_count": null,
   "metadata": {},
   "outputs": [],
   "source": [
    "# LOOKING AT THE AUGMENTATIONS \n",
    "\n",
    "# inputs, classes = next(iter(dataloader_train_aug1))\n",
    "# out = torchvision.utils.make_grid(inputs)\n",
    "# imshow(out, title=[class_labels[x] for x in classes])"
   ]
  },
  {
   "cell_type": "markdown",
   "metadata": {},
   "source": [
    "Load in a fresh ResNet50 that's prepped for transfer learning and optimizer"
   ]
  },
  {
   "cell_type": "code",
   "execution_count": null,
   "metadata": {},
   "outputs": [],
   "source": [
    "untrained_model_aug1 = load_and_prep_resnet50()\n",
    "optimizer = torch.optim.Adam(untrained_model_aug1.parameters(), lr=0.001)\n",
    "#optimizer = get_optimizer(untrained_model_aug1)"
   ]
  },
  {
   "cell_type": "markdown",
   "metadata": {},
   "source": [
    "### Training"
   ]
  },
  {
   "cell_type": "code",
   "execution_count": null,
   "metadata": {},
   "outputs": [],
   "source": [
    "trained_model_aug1, trained_aug1_info = train_model(model=untrained_model_aug1, optimizer=optimizer, num_epoch=50, train=dataloader_train_aug1)"
   ]
  },
  {
   "cell_type": "code",
   "execution_count": null,
   "metadata": {},
   "outputs": [],
   "source": [
    "torch.save({\"aug\": trained_model_aug1.state_dict(), \"aug_info\": trained_aug1_info},\"aug1Model_50.tar\")"
   ]
  },
  {
   "cell_type": "markdown",
   "metadata": {},
   "source": [
    "### Training Results"
   ]
  },
  {
   "cell_type": "code",
   "execution_count": null,
   "metadata": {},
   "outputs": [],
   "source": [
    "plot_loss(trained_aug1_info[\"train_loss\"], trained_aug1_info[\"val_loss\"], [\"Train\", \"Val\"])"
   ]
  },
  {
   "cell_type": "code",
   "execution_count": null,
   "metadata": {},
   "outputs": [],
   "source": [
    "truel, predl = makeAll(dataloader_test, trained_model_aug1, device)\n",
    "print(\"Accuracy: \", (np.sum(predl==truel)/predl.size * 100))\n",
    "print(classification_report(truel, predl, target_names=class_labels))"
   ]
  },
  {
   "cell_type": "markdown",
   "metadata": {},
   "source": [
    "### Finetuning"
   ]
  },
  {
   "cell_type": "code",
   "execution_count": null,
   "metadata": {},
   "outputs": [],
   "source": [
    "unfreeze_layers(trained_model_aug1)\n",
    "model_aug1, model_aug1_info = train_model(model=trained_model_aug1, optimizer=optimizer, num_epoch=50, train=dataloader_train_aug1)"
   ]
  },
  {
   "cell_type": "code",
   "execution_count": null,
   "metadata": {},
   "outputs": [],
   "source": [
    "torch.save({\"aug1\": model_aug1.state_dict(), \"aug1_info\": model_aug1_info, \"freeze_aug1_info\": trained_aug1_info},\"aug1Model_60.tar\")"
   ]
  },
  {
   "cell_type": "markdown",
   "metadata": {},
   "source": [
    "### Round 1 results"
   ]
  },
  {
   "cell_type": "code",
   "execution_count": null,
   "metadata": {},
   "outputs": [],
   "source": [
    "visualize_model(model_aug1, dataloader_tiny_val, class_labels, device)"
   ]
  },
  {
   "cell_type": "code",
   "execution_count": null,
   "metadata": {},
   "outputs": [],
   "source": [
    "plot_accuracies(model_aug1_info[\"train_loss\"], model_aug1_info[\"val_loss\"], [\"Train\", \"Val\"])"
   ]
  },
  {
   "cell_type": "code",
   "execution_count": null,
   "metadata": {},
   "outputs": [],
   "source": [
    "plot_accuracies(model_aug1_info[\"train_acc\"], model_aug1_info[\"val_acc\"], [\"Train\", \"Val\"])"
   ]
  },
  {
   "cell_type": "code",
   "execution_count": null,
   "metadata": {},
   "outputs": [],
   "source": [
    "truel, predl = makeAll(dataloader_test, model_aug1, device)\n",
    "plot_confusion_matrix(truel, predl, class_labels, normalize=True)\n",
    "print(\"Accuracy\", (np.sum(predl==truel)/predl.size * 100))\n"
   ]
  },
  {
   "cell_type": "code",
   "execution_count": null,
   "metadata": {},
   "outputs": [],
   "source": [
    "print(classification_report(truel, predl, target_names=class_labels))"
   ]
  },
  {
   "cell_type": "markdown",
   "metadata": {},
   "source": [
    "### On feeder"
   ]
  },
  {
   "cell_type": "code",
   "execution_count": null,
   "metadata": {},
   "outputs": [],
   "source": [
    "truel, predl = makeAll(dataloader_feeder, model_aug1, device)\n",
    "plot_confusion_matrix(truel, predl, class_labels, normalize=True)\n",
    "print(\"Accuracy\", (np.sum(predl==truel)/predl.size * 100))\n"
   ]
  },
  {
   "cell_type": "markdown",
   "metadata": {},
   "source": [
    "## Augmentation Round 2\n",
    "\n",
    "Add blur and colorjitter"
   ]
  },
  {
   "cell_type": "code",
   "execution_count": 19,
   "metadata": {},
   "outputs": [],
   "source": [
    "# Defining the transforms including augmentations (and also the basic ToTensor and normalisation)\n",
    "preprocess_with_augmentation2 = transforms.Compose([\n",
    "    transforms.ColorJitter(brightness=0.1), # Added\n",
    "    transforms.GaussianBlur(kernel_size=(5,5), sigma=(7, 9)), # Added\n",
    "    transforms.RandomRotation(degrees=10),\n",
    "    transforms.RandomHorizontalFlip(p=0.5),\n",
    "    transforms.RandomResizedCrop(size=224,scale=(0.3,1)), # lowerbound the scale at 30 % of og img to not get too small portions\n",
    "    \n",
    "    transforms.ToTensor(),\n",
    "    transforms.Normalize(mean=[0.485, 0.456, 0.406], std=[0.229, 0.224, 0.225]),\n",
    "])\n",
    "\n",
    "# Datasets and loaders with augmentations added \n",
    "dataset_train_aug2 = datasets.ImageFolder(PATH_TRAIN, preprocess_with_augmentation2)\n",
    "dataloader_train_aug2 = torch.utils.data.DataLoader(dataset_train_aug2, batch_size=16, shuffle=True, num_workers=2)"
   ]
  },
  {
   "cell_type": "markdown",
   "metadata": {},
   "source": [
    "Load in a fresh ResNet50 that's prepped for transfer learning"
   ]
  },
  {
   "cell_type": "code",
   "execution_count": 20,
   "metadata": {},
   "outputs": [],
   "source": [
    "untrained_model_aug2 = load_and_prep_resnet50()\n",
    "optimizer = torch.optim.Adam(untrained_model_aug2.parameters(), lr=0.001)\n",
    "#optimizer = get_optimizer(untrained_model_aug2) "
   ]
  },
  {
   "cell_type": "markdown",
   "metadata": {},
   "source": [
    "### Training"
   ]
  },
  {
   "cell_type": "code",
   "execution_count": 21,
   "metadata": {},
   "outputs": [
    {
     "name": "stdout",
     "output_type": "stream",
     "text": [
      "Epoch 1/50\n",
      "----------\n",
      "Train Loss: 1.6985 Acc: 0.4443\n",
      "Val Loss: 1.6322 Acc: 0.4327\n",
      "Epoch time 2m 25s\n",
      "----------\n",
      "\n",
      "Epoch 2/50\n",
      "----------\n",
      "Train Loss: 1.2465 Acc: 0.6802\n",
      "Val Loss: 1.4222 Acc: 0.6154\n",
      "Epoch time 2m 25s\n",
      "----------\n",
      "\n",
      "Epoch 3/50\n",
      "----------\n",
      "Train Loss: 1.0568 Acc: 0.7461\n",
      "Val Loss: 1.3617 Acc: 0.6154\n",
      "Epoch time 2m 25s\n",
      "----------\n",
      "\n",
      "Epoch 4/50\n",
      "----------\n",
      "Train Loss: 0.8906 Acc: 0.7665\n",
      "Val Loss: 1.2329 Acc: 0.6442\n",
      "Epoch time 2m 26s\n",
      "----------\n",
      "\n",
      "Epoch 5/50\n",
      "----------\n",
      "Train Loss: 0.8340 Acc: 0.7904\n",
      "Val Loss: 1.1895 Acc: 0.6731\n",
      "Epoch time 2m 26s\n",
      "----------\n",
      "\n",
      "Epoch 6/50\n",
      "----------\n",
      "Train Loss: 0.7518 Acc: 0.8084\n",
      "Val Loss: 1.1450 Acc: 0.6635\n",
      "Epoch time 2m 25s\n",
      "----------\n",
      "\n",
      "Epoch 7/50\n",
      "----------\n",
      "Train Loss: 0.6880 Acc: 0.8228\n",
      "Val Loss: 1.0679 Acc: 0.7212\n",
      "Epoch time 2m 25s\n",
      "----------\n",
      "\n",
      "Epoch 8/50\n",
      "----------\n",
      "Train Loss: 0.6617 Acc: 0.8084\n",
      "Val Loss: 1.0281 Acc: 0.6923\n",
      "Epoch time 2m 25s\n",
      "----------\n",
      "\n",
      "Epoch 9/50\n",
      "----------\n",
      "Train Loss: 0.6174 Acc: 0.8251\n",
      "Val Loss: 1.0624 Acc: 0.6827\n",
      "Epoch time 2m 26s\n",
      "----------\n",
      "\n",
      "Epoch 10/50\n",
      "----------\n",
      "Train Loss: 0.6206 Acc: 0.8323\n",
      "Val Loss: 1.0319 Acc: 0.7115\n",
      "Epoch time 2m 25s\n",
      "----------\n",
      "\n",
      "Epoch 11/50\n",
      "----------\n",
      "Train Loss: 0.5614 Acc: 0.8503\n",
      "Val Loss: 0.9522 Acc: 0.6731\n",
      "Epoch time 2m 26s\n",
      "----------\n",
      "\n",
      "Epoch 12/50\n",
      "----------\n",
      "Train Loss: 0.5478 Acc: 0.8419\n",
      "Val Loss: 0.9607 Acc: 0.7212\n",
      "Epoch time 2m 25s\n",
      "----------\n",
      "\n",
      "Epoch 13/50\n",
      "----------\n",
      "Train Loss: 0.5098 Acc: 0.8647\n",
      "Val Loss: 0.9328 Acc: 0.7308\n",
      "Epoch time 2m 25s\n",
      "----------\n",
      "\n",
      "Epoch 14/50\n",
      "----------\n",
      "Train Loss: 0.5208 Acc: 0.8419\n",
      "Val Loss: 0.9298 Acc: 0.7500\n",
      "Epoch time 2m 24s\n",
      "----------\n",
      "\n",
      "Epoch 15/50\n",
      "----------\n",
      "Train Loss: 0.4782 Acc: 0.8719\n",
      "Val Loss: 0.8280 Acc: 0.7308\n",
      "Epoch time 2m 25s\n",
      "----------\n",
      "\n",
      "Epoch 16/50\n",
      "----------\n",
      "Train Loss: 0.4924 Acc: 0.8611\n",
      "Val Loss: 0.9503 Acc: 0.6827\n",
      "Epoch time 2m 25s\n",
      "----------\n",
      "\n",
      "Epoch 17/50\n",
      "----------\n",
      "Train Loss: 0.4769 Acc: 0.8707\n",
      "Val Loss: 0.9589 Acc: 0.6635\n",
      "Epoch time 2m 25s\n",
      "----------\n",
      "\n",
      "Epoch 18/50\n",
      "----------\n",
      "Train Loss: 0.4583 Acc: 0.8683\n",
      "Val Loss: 0.7876 Acc: 0.7500\n",
      "Epoch time 2m 25s\n",
      "----------\n",
      "\n",
      "Epoch 19/50\n",
      "----------\n",
      "Train Loss: 0.4305 Acc: 0.8778\n",
      "Val Loss: 0.8121 Acc: 0.7404\n",
      "Epoch time 2m 25s\n",
      "----------\n",
      "\n",
      "Epoch 20/50\n",
      "----------\n",
      "Train Loss: 0.4205 Acc: 0.8838\n",
      "Val Loss: 0.8003 Acc: 0.7404\n",
      "Epoch time 2m 26s\n",
      "----------\n",
      "\n",
      "Epoch 21/50\n",
      "----------\n",
      "Train Loss: 0.4116 Acc: 0.8850\n",
      "Val Loss: 0.8836 Acc: 0.7308\n",
      "Epoch time 2m 25s\n",
      "----------\n",
      "\n",
      "Epoch 22/50\n",
      "----------\n",
      "Train Loss: 0.4198 Acc: 0.8731\n",
      "Val Loss: 0.8219 Acc: 0.7596\n",
      "Epoch time 2m 24s\n",
      "----------\n",
      "\n",
      "Epoch 23/50\n",
      "----------\n",
      "Train Loss: 0.3916 Acc: 0.8850\n",
      "Val Loss: 0.8297 Acc: 0.7404\n",
      "Epoch time 2m 24s\n",
      "----------\n",
      "\n",
      "Epoch 24/50\n",
      "----------\n",
      "Train Loss: 0.3773 Acc: 0.8874\n",
      "Val Loss: 0.8339 Acc: 0.7212\n",
      "Epoch time 2m 24s\n",
      "----------\n",
      "\n",
      "Epoch 25/50\n",
      "----------\n",
      "Train Loss: 0.3829 Acc: 0.8994\n",
      "Val Loss: 0.7923 Acc: 0.7692\n",
      "Epoch time 2m 26s\n",
      "----------\n",
      "\n",
      "Epoch 26/50\n",
      "----------\n",
      "Train Loss: 0.3810 Acc: 0.8874\n",
      "Val Loss: 0.8648 Acc: 0.7404\n",
      "Epoch time 2m 25s\n",
      "----------\n",
      "\n",
      "Epoch 27/50\n",
      "----------\n",
      "Train Loss: 0.3490 Acc: 0.9030\n",
      "Val Loss: 0.8639 Acc: 0.7404\n",
      "Epoch time 2m 25s\n",
      "----------\n",
      "\n",
      "Epoch 28/50\n",
      "----------\n",
      "Train Loss: 0.3755 Acc: 0.8970\n",
      "Val Loss: 0.8204 Acc: 0.7500\n",
      "Epoch time 2m 25s\n",
      "----------\n",
      "\n",
      "Epoch 29/50\n",
      "----------\n",
      "Train Loss: 0.3574 Acc: 0.8898\n",
      "Val Loss: 0.8013 Acc: 0.7788\n",
      "Epoch time 2m 25s\n",
      "----------\n",
      "\n",
      "Epoch 30/50\n",
      "----------\n",
      "Train Loss: 0.3254 Acc: 0.9066\n",
      "Val Loss: 0.7991 Acc: 0.7596\n",
      "Epoch time 2m 24s\n",
      "----------\n",
      "\n",
      "Epoch 31/50\n",
      "----------\n",
      "Train Loss: 0.3553 Acc: 0.8982\n",
      "Val Loss: 0.8252 Acc: 0.7308\n",
      "Epoch time 2m 25s\n",
      "----------\n",
      "\n",
      "Epoch 32/50\n",
      "----------\n",
      "Train Loss: 0.3388 Acc: 0.9030\n",
      "Val Loss: 0.7500 Acc: 0.7692\n",
      "Epoch time 2m 25s\n",
      "----------\n",
      "\n",
      "Epoch 33/50\n",
      "----------\n",
      "Train Loss: 0.3066 Acc: 0.9150\n",
      "Val Loss: 0.7786 Acc: 0.7788\n",
      "Epoch time 2m 25s\n",
      "----------\n",
      "\n",
      "Epoch 34/50\n",
      "----------\n",
      "Train Loss: 0.3465 Acc: 0.8946\n",
      "Val Loss: 0.8226 Acc: 0.7308\n",
      "Epoch time 2m 25s\n",
      "----------\n",
      "\n",
      "Epoch 35/50\n",
      "----------\n",
      "Train Loss: 0.3419 Acc: 0.8982\n",
      "Val Loss: 0.7083 Acc: 0.7500\n",
      "Epoch time 2m 25s\n",
      "----------\n",
      "\n",
      "Epoch 36/50\n",
      "----------\n",
      "Train Loss: 0.3181 Acc: 0.9186\n",
      "Val Loss: 0.7967 Acc: 0.7115\n",
      "Epoch time 2m 25s\n",
      "----------\n",
      "\n",
      "Epoch 37/50\n",
      "----------\n",
      "Train Loss: 0.3303 Acc: 0.9066\n",
      "Val Loss: 0.7457 Acc: 0.7308\n",
      "Epoch time 2m 24s\n",
      "----------\n",
      "\n",
      "Epoch 38/50\n",
      "----------\n",
      "Train Loss: 0.3250 Acc: 0.9150\n",
      "Val Loss: 0.7202 Acc: 0.7692\n",
      "Epoch time 2m 25s\n",
      "----------\n",
      "\n",
      "Epoch 39/50\n",
      "----------\n",
      "Train Loss: 0.3578 Acc: 0.8922\n",
      "Val Loss: 0.8410 Acc: 0.7212\n",
      "Epoch time 2m 25s\n",
      "----------\n",
      "\n",
      "Epoch 40/50\n",
      "----------\n",
      "Train Loss: 0.3223 Acc: 0.9066\n",
      "Val Loss: 0.7507 Acc: 0.7404\n",
      "Epoch time 2m 25s\n",
      "----------\n",
      "\n",
      "Epoch 41/50\n",
      "----------\n",
      "Train Loss: 0.3058 Acc: 0.9102\n",
      "Val Loss: 0.8337 Acc: 0.7308\n",
      "Epoch time 2m 25s\n",
      "----------\n",
      "\n",
      "Epoch 42/50\n",
      "----------\n",
      "Train Loss: 0.3156 Acc: 0.8994\n",
      "Val Loss: 0.7825 Acc: 0.7788\n",
      "Epoch time 2m 25s\n",
      "----------\n",
      "\n",
      "Epoch 43/50\n",
      "----------\n",
      "Train Loss: 0.2950 Acc: 0.9102\n",
      "Val Loss: 0.8293 Acc: 0.6827\n",
      "Epoch time 2m 25s\n",
      "----------\n",
      "\n",
      "Epoch 44/50\n",
      "----------\n",
      "Train Loss: 0.2893 Acc: 0.9174\n",
      "Val Loss: 0.7669 Acc: 0.7212\n",
      "Epoch time 2m 32s\n",
      "----------\n",
      "\n",
      "Epoch 45/50\n",
      "----------\n",
      "Train Loss: 0.2847 Acc: 0.9210\n",
      "Val Loss: 0.7978 Acc: 0.7308\n",
      "Epoch time 2m 25s\n",
      "----------\n",
      "\n",
      "Epoch 46/50\n",
      "----------\n",
      "Train Loss: 0.2886 Acc: 0.9138\n",
      "Val Loss: 0.7481 Acc: 0.7692\n",
      "Epoch time 2m 24s\n",
      "----------\n",
      "\n",
      "Epoch 47/50\n",
      "----------\n",
      "Train Loss: 0.3000 Acc: 0.9102\n",
      "Val Loss: 0.7492 Acc: 0.7596\n",
      "Epoch time 2m 24s\n",
      "----------\n",
      "\n",
      "Epoch 48/50\n",
      "----------\n",
      "Train Loss: 0.2871 Acc: 0.9138\n",
      "Val Loss: 0.7731 Acc: 0.7500\n",
      "Epoch time 2m 25s\n",
      "----------\n",
      "\n",
      "Epoch 49/50\n",
      "----------\n",
      "Train Loss: 0.2749 Acc: 0.9174\n",
      "Val Loss: 0.7410 Acc: 0.7404\n",
      "Epoch time 2m 25s\n",
      "----------\n",
      "\n",
      "Epoch 50/50\n",
      "----------\n",
      "Train Loss: 0.2729 Acc: 0.9162\n",
      "Val Loss: 0.7868 Acc: 0.7115\n",
      "Epoch time 2m 26s\n",
      "----------\n",
      "\n",
      "Training complete in 120m 53s\n",
      "Best model had accuracy ${}, loss ${} at epoch ${} tensor(0.7788, dtype=torch.float64) 0.8013062110314002 29\n",
      "Validation accuracies:\n",
      "[0.4326923076923077, 0.6153846153846154, 0.6153846153846154, 0.6442307692307693, 0.6730769230769231, 0.6634615384615384, 0.7211538461538461, 0.6923076923076923, 0.6826923076923077, 0.7115384615384616, 0.6730769230769231, 0.7211538461538461, 0.7307692307692307, 0.75, 0.7307692307692307, 0.6826923076923077, 0.6634615384615384, 0.75, 0.7403846153846154, 0.7403846153846154, 0.7307692307692307, 0.7596153846153846, 0.7403846153846154, 0.7211538461538461, 0.7692307692307693, 0.7403846153846154, 0.7403846153846154, 0.75, 0.7788461538461539, 0.7596153846153846, 0.7307692307692307, 0.7692307692307693, 0.7788461538461539, 0.7307692307692307, 0.75, 0.7115384615384616, 0.7307692307692307, 0.7692307692307693, 0.7211538461538461, 0.7403846153846154, 0.7307692307692307, 0.7788461538461539, 0.6826923076923077, 0.7211538461538461, 0.7307692307692307, 0.7692307692307693, 0.7596153846153846, 0.75, 0.7403846153846154, 0.7115384615384616]\n",
      "Training accuracies:\n",
      "[0.444311377245509, 0.6802395209580838, 0.7461077844311377, 0.7664670658682635, 0.7904191616766467, 0.8083832335329342, 0.822754491017964, 0.8083832335329342, 0.8251497005988024, 0.8323353293413174, 0.8502994011976048, 0.8419161676646707, 0.8646706586826347, 0.8419161676646707, 0.8718562874251496, 0.8610778443113772, 0.8706586826347306, 0.8682634730538922, 0.8778443113772455, 0.8838323353293414, 0.8850299401197604, 0.8730538922155688, 0.8850299401197604, 0.8874251497005988, 0.8994011976047904, 0.8874251497005988, 0.9029940119760479, 0.8970059880239521, 0.8898203592814371, 0.9065868263473054, 0.8982035928143712, 0.9029940119760479, 0.9149700598802395, 0.8946107784431138, 0.8982035928143712, 0.918562874251497, 0.9065868263473054, 0.9149700598802395, 0.8922155688622755, 0.9065868263473054, 0.9101796407185628, 0.8994011976047904, 0.9101796407185628, 0.9173652694610779, 0.9209580838323354, 0.9137724550898204, 0.9101796407185628, 0.9137724550898204, 0.9173652694610779, 0.9161676646706587]\n"
     ]
    }
   ],
   "source": [
    "trained_model_aug2, trained_aug2_info = train_model(model=untrained_model_aug2, optimizer=optimizer, num_epoch=50, train=dataloader_train_aug2) "
   ]
  },
  {
   "cell_type": "code",
   "execution_count": 22,
   "metadata": {},
   "outputs": [],
   "source": [
    "torch.save({\"aug\": trained_model_aug2.state_dict(), \"aug_info\": trained_aug2_info},\"aug2Model_50.tar\")"
   ]
  },
  {
   "cell_type": "markdown",
   "metadata": {},
   "source": [
    "### Training Results"
   ]
  },
  {
   "cell_type": "code",
   "execution_count": 23,
   "metadata": {},
   "outputs": [
    {
     "data": {
      "image/png": "[encoded data removed]",
      "text/plain": [
       "<Figure size 600x600 with 1 Axes>"
      ]
     },
     "metadata": {},
     "output_type": "display_data"
    }
   ],
   "source": [
    "plot_loss(trained_aug2_info[\"train_loss\"], trained_aug2_info[\"val_loss\"], [\"Train\", \"Val\"])"
   ]
  },
  {
   "cell_type": "code",
   "execution_count": null,
   "metadata": {},
   "outputs": [],
   "source": [
    "truel, predl = makeAll(dataloader_test, trained_model_aug2, device)\n",
    "print(\"Accuracy: \", (np.sum(predl==truel)/predl.size * 100))\n",
    "print(classification_report(truel, predl, target_names=class_labels))"
   ]
  },
  {
   "cell_type": "markdown",
   "metadata": {},
   "source": [
    "### Finetuning"
   ]
  },
  {
   "cell_type": "code",
   "execution_count": null,
   "metadata": {},
   "outputs": [],
   "source": [
    "unfreeze_layers(trained_model_aug2)\n",
    "model_aug2, model_aug2_info = train_model(model=trained_model_aug2, optimizer=optimizer, num_epoch=50, train=dataloader_train_aug2)"
   ]
  },
  {
   "cell_type": "code",
   "execution_count": null,
   "metadata": {},
   "outputs": [],
   "source": [
    "torch.save({\"aug2\": model_aug2.state_dict(), \"aug2_info\": model_aug2_info, \"freeze_aug1_info\": trained_aug2_info},\"aug2Model_40.tar\")"
   ]
  },
  {
   "cell_type": "markdown",
   "metadata": {},
   "source": [
    "### Round 2 Results"
   ]
  },
  {
   "cell_type": "code",
   "execution_count": null,
   "metadata": {},
   "outputs": [],
   "source": [
    "visualize_model(model_aug2, dataloader_tiny_val, class_labels, device)"
   ]
  },
  {
   "cell_type": "code",
   "execution_count": null,
   "metadata": {},
   "outputs": [],
   "source": [
    "plot_accuracies(model_aug2_info[\"train_loss\"], model_aug2_info[\"val_loss\"], [\"Train\", \"Val\"])"
   ]
  },
  {
   "cell_type": "code",
   "execution_count": null,
   "metadata": {},
   "outputs": [],
   "source": [
    "plot_accuracies(model_aug2_info[\"train_acc\"], model_aug2_info[\"val_acc\"], [\"Train\", \"Val\"])"
   ]
  },
  {
   "cell_type": "code",
   "execution_count": null,
   "metadata": {},
   "outputs": [],
   "source": [
    "truel, predl = makeAll(dataloader_test, model_aug2, device)\n",
    "plot_confusion_matrix(truel, predl, class_labels, normalize=True)\n",
    "print(\"Accuracy\", (np.sum(predl==truel)/predl.size * 100))"
   ]
  },
  {
   "cell_type": "code",
   "execution_count": null,
   "metadata": {},
   "outputs": [],
   "source": [
    "class_labels = ['blueTit', 'chaffinch', 'coalTit', 'goldfinch', 'greatTit', 'robin', 'starling']\n",
    "print(classification_report(truel, predl, target_names=class_labels))"
   ]
  },
  {
   "cell_type": "markdown",
   "metadata": {},
   "source": [
    "### On feeder"
   ]
  },
  {
   "cell_type": "code",
   "execution_count": null,
   "metadata": {},
   "outputs": [],
   "source": [
    "truel, predl = makeAll(dataloader_feeder, model_aug2, device)\n",
    "plot_confusion_matrix(truel, predl, class_labels, normalize=True)\n",
    "print(\"Accuracy\", (np.sum(predl==truel)/predl.size * 100))"
   ]
  },
  {
   "cell_type": "markdown",
   "metadata": {},
   "source": [
    "## Augmentation round 3\n",
    "\n",
    "Try without jitter"
   ]
  },
  {
   "cell_type": "code",
   "execution_count": null,
   "metadata": {},
   "outputs": [],
   "source": [
    "# Defining the transforms including augmentations (and also the basic ToTensor and normalisation)\n",
    "preprocess_with_augmentation3 = transforms.Compose([\n",
    "    transforms.GaussianBlur(kernel_size=(5,5), sigma=(7, 9)), # Added\n",
    "    transforms.RandomRotation(degrees=10),\n",
    "    transforms.RandomHorizontalFlip(p=0.5),\n",
    "    transforms.RandomResizedCrop(size=224,scale=(0.3,1)), # lowerbound the scale at 30 % of og img to not get too small portions\n",
    "\n",
    "    transforms.ToTensor(),\n",
    "    transforms.Normalize(mean=[0.485, 0.456, 0.406], std=[0.229, 0.224, 0.225]),\n",
    "])\n",
    "\n",
    "# Datasets and loaders with augmentations added \n",
    "dataset_train_aug3 = datasets.ImageFolder(PATH_TRAIN, preprocess_with_augmentation3)\n",
    "dataloader_train_aug3 = torch.utils.data.DataLoader(dataset_train_aug3, batch_size=16, shuffle=True, num_workers=2)"
   ]
  },
  {
   "cell_type": "markdown",
   "metadata": {},
   "source": [
    "Load in a fresh ResNet50 that's prepped for transfer learning"
   ]
  },
  {
   "cell_type": "code",
   "execution_count": null,
   "metadata": {},
   "outputs": [],
   "source": [
    "untrained_model_aug3 = load_and_prep_resnet50()\n",
    "optimizer = torch.optim.Adam(untrained_model_aug3.parameters(), lr=0.001)\n",
    "# optimizer = get_optimizer(untrained_model_aug3) "
   ]
  },
  {
   "cell_type": "markdown",
   "metadata": {},
   "source": [
    "### Training\n",
    "First with the frozen layers, then unfreeze for finetuning"
   ]
  },
  {
   "cell_type": "code",
   "execution_count": null,
   "metadata": {},
   "outputs": [],
   "source": [
    "trained_model_aug3, trained_aug3_info = train_model(model=untrained_model_aug3, optimizer=optimizer, num_epoch=50, train=dataloader_train_aug3) "
   ]
  },
  {
   "cell_type": "code",
   "execution_count": null,
   "metadata": {},
   "outputs": [],
   "source": [
    "torch.save({\"aug\": trained_model_aug3.state_dict(), \"aug_info\": trained_aug3_info},\"aug3Model_50.tar\")"
   ]
  },
  {
   "cell_type": "markdown",
   "metadata": {},
   "source": [
    "### Training Results"
   ]
  },
  {
   "cell_type": "code",
   "execution_count": null,
   "metadata": {},
   "outputs": [],
   "source": [
    "plot_loss(trained_aug3_info[\"train_loss\"], trained_aug3_info[\"val_loss\"], [\"Train\", \"Val\"])"
   ]
  },
  {
   "cell_type": "code",
   "execution_count": null,
   "metadata": {},
   "outputs": [],
   "source": [
    "truel, predl = makeAll(dataloader_test, trained_model_aug3, device)\n",
    "print(\"Accuracy: \", (np.sum(predl==truel)/predl.size * 100))\n",
    "print(classification_report(truel, predl, target_names=class_labels))"
   ]
  },
  {
   "cell_type": "markdown",
   "metadata": {},
   "source": [
    "### Finetuning"
   ]
  },
  {
   "cell_type": "code",
   "execution_count": null,
   "metadata": {},
   "outputs": [],
   "source": [
    "unfreeze_layers(trained_model_aug3)\n",
    "model_aug3, model_aug3_info = train_model(model=trained_model_aug3, optimizer=optimizer, num_epoch=50, train=dataloader_train_aug3)"
   ]
  },
  {
   "cell_type": "code",
   "execution_count": null,
   "metadata": {},
   "outputs": [],
   "source": [
    "torch.save({\"aug3\": model_aug3.state_dict(), \"aug3_info\": model_aug3_info, \"freeze_aug3_info\": trained_aug3_info},\"aug3Model_40.tar\")"
   ]
  },
  {
   "cell_type": "markdown",
   "metadata": {},
   "source": [
    "### Round 3 Results"
   ]
  },
  {
   "cell_type": "code",
   "execution_count": null,
   "metadata": {},
   "outputs": [],
   "source": [
    "visualize_model(model_aug3, dataloader_tiny_val, class_labels, device)"
   ]
  },
  {
   "cell_type": "code",
   "execution_count": null,
   "metadata": {},
   "outputs": [],
   "source": [
    "plot_accuracies(model_aug3_info[\"train_loss\"], model_aug3_info[\"val_loss\"], [\"Train\", \"Val\"])"
   ]
  },
  {
   "cell_type": "code",
   "execution_count": null,
   "metadata": {},
   "outputs": [],
   "source": [
    "plot_accuracies(model_aug3_info[\"train_acc\"], model_aug3_info[\"val_acc\"], [\"Train\", \"Val\"])"
   ]
  },
  {
   "cell_type": "code",
   "execution_count": null,
   "metadata": {},
   "outputs": [],
   "source": [
    "truel, predl = makeAll(dataloader_test, model_aug3, device)\n",
    "plot_confusion_matrix(truel, predl, class_labels, normalize=True)\n",
    "print(\"Accuracy\", (np.sum(predl==truel)/predl.size * 100))"
   ]
  },
  {
   "cell_type": "code",
   "execution_count": null,
   "metadata": {},
   "outputs": [],
   "source": [
    "class_labels = ['blueTit', 'chaffinch', 'coalTit', 'goldfinch', 'greatTit', 'robin', 'starling']\n",
    "print(classification_report(truel, predl, target_names=class_labels))"
   ]
  },
  {
   "cell_type": "markdown",
   "metadata": {},
   "source": [
    "### On Feeder"
   ]
  },
  {
   "cell_type": "code",
   "execution_count": null,
   "metadata": {},
   "outputs": [],
   "source": [
    "truel, predl = makeAll(dataloader_feeder, model_aug3, device)\n",
    "plot_confusion_matrix(truel, predl, class_labels, normalize=True)\n",
    "print(\"Accuracy\", (np.sum(predl==truel)/predl.size * 100))"
   ]
  }
 ],
 "metadata": {
  "kernelspec": {
   "display_name": "dm",
   "language": "python",
   "name": "python3"
  },
  "language_info": {
   "codemirror_mode": {
    "name": "ipython",
    "version": 3
   },
   "file_extension": ".py",
   "mimetype": "text/x-python",
   "name": "python",
   "nbconvert_exporter": "python",
   "pygments_lexer": "ipython3",
   "version": "3.11.9"
  }
 },
 "nbformat": 4,
 "nbformat_minor": 2
}
