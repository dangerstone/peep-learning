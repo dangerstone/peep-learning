{
 "cells": [
  {
   "cell_type": "markdown",
   "metadata": {},
   "source": [
    "# Code for finetuning basemodel"
   ]
  },
  {
   "cell_type": "code",
   "execution_count": 1,
   "metadata": {},
   "outputs": [],
   "source": [
    "%run setup.ipynb"
   ]
  },
  {
   "cell_type": "code",
   "execution_count": null,
   "metadata": {},
   "outputs": [
    {
     "name": "stderr",
     "output_type": "stream",
     "text": [
      "c:\\Users\\annek\\AppData\\Local\\Programs\\Python\\Python310\\lib\\site-packages\\torch\\_utils.py:776: UserWarning: TypedStorage is deprecated. It will be removed in the future and UntypedStorage will be the only storage class. This should only matter to you if you are using storages directly.  To access UntypedStorage directly, use tensor.untyped_storage() instead of tensor.storage()\n",
      "  return self.fget.__get__(instance, owner)()\n"
     ]
    }
   ],
   "source": [
    "epochs = 50\n",
    "model, info = load_function(\"basemodel.tar\")"
   ]
  },
  {
   "cell_type": "code",
   "execution_count": null,
   "metadata": {},
   "outputs": [
    {
     "name": "stdout",
     "output_type": "stream",
     "text": [
      "Epoch 1/50\n",
      "----------\n",
      "Train Loss: 0.1106 Acc: 0.9641\n",
      "Val Loss: 0.0183 Acc: 1.0000\n",
      "Epoch time 2m 39s\n",
      "----------\n",
      "\n",
      "Epoch 2/50\n",
      "----------\n",
      "Train Loss: 0.0384 Acc: 0.9904\n",
      "Val Loss: 0.8047 Acc: 0.9615\n",
      "Epoch time 2m 38s\n",
      "----------\n",
      "\n",
      "Epoch 3/50\n",
      "----------\n",
      "Train Loss: 0.0429 Acc: 0.9952\n",
      "Val Loss: 0.0597 Acc: 0.9712\n",
      "Epoch time 2m 29s\n",
      "----------\n",
      "\n",
      "Epoch 4/50\n",
      "----------\n",
      "Train Loss: 0.0503 Acc: 0.9868\n",
      "Val Loss: 0.0402 Acc: 0.9712\n",
      "Epoch time 2m 29s\n",
      "----------\n",
      "\n",
      "Epoch 5/50\n",
      "----------\n",
      "Train Loss: 0.0204 Acc: 0.9928\n"
     ]
    }
   ],
   "source": [
    "unfreeze_layer4(model)\n",
    "optimizer = torch.optim.Adam(filter(lambda p: p.requires_grad, model.parameters()), lr=0.001)\n",
    "model, info = train_model(model, optimizer, num_epoch=epochs, train=dataloader_train, validation=dataloader_validation)\n"
   ]
  }
 ],
 "metadata": {
  "kernelspec": {
   "display_name": "Python 3",
   "language": "python",
   "name": "python3"
  },
  "language_info": {
   "codemirror_mode": {
    "name": "ipython",
    "version": 3
   },
   "file_extension": ".py",
   "mimetype": "text/x-python",
   "name": "python",
   "nbconvert_exporter": "python",
   "pygments_lexer": "ipython3",
   "version": "3.10.4"
  }
 },
 "nbformat": 4,
 "nbformat_minor": 2
}
