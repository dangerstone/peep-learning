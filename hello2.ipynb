{
 "cells": [
  {
   "cell_type": "markdown",
   "metadata": {},
   "source": [
    "# Reading data or idk title here i guess"
   ]
  },
  {
   "cell_type": "code",
   "execution_count": 20,
   "metadata": {},
   "outputs": [],
   "source": [
    "import numpy as np\n",
    "import torch\n",
    "import pandas as pd\n",
    "\n",
    "import matplotlib.pyplot as plt\n",
    "import enum"
   ]
  },
  {
   "cell_type": "markdown",
   "metadata": {},
   "source": [
    "## Loading in image data"
   ]
  },
  {
   "cell_type": "code",
   "execution_count": 21,
   "metadata": {},
   "outputs": [],
   "source": [
    "backgroundPATH = \"just-bird-data/withBackground\"\n",
    "noBackgroundPATH = \"just-bird-data/withoutBackground\"\n",
    "feederPATH = \"feeder-data\"\n",
    "csvPATH = \"birds.csv\"\n",
    "\n",
    "class Birds(enum.Enum):\n",
    "    BLUETIT = \"blueTit\"\n",
    "    CHAFFINCH = \"chaffinch\"\n",
    "    COALTIT = \"coalTit\"\n",
    "    GOLDFINCH = \"goldfinch\"\n",
    "    GREATTIT = \"greatTit\"\n",
    "    ROBIN = \"robin\"\n",
    "    STARLING = \"starling\"\n",
    "\n",
    "    def __str__(self) -> str:\n",
    "        return super().value"
   ]
  },
  {
   "cell_type": "code",
   "execution_count": 22,
   "metadata": {},
   "outputs": [],
   "source": [
    "import matplotlib.image as mpimg\n",
    "\n",
    "plt.figure()\n",
    "first = backgroundPATH + \"/\" + str(Birds.BLUETIT) + \"/(1).jpg\"\n",
    "\n",
    "# Read Images\n",
    "img = mpimg.imread(first)\n",
    " \n",
    "# Output Images\n",
    "plt.imshow(img)"
   ]
  },
  {
   "cell_type": "markdown",
   "metadata": {},
   "source": []
  },
  {
   "cell_type": "code",
   "execution_count": 27,
   "metadata": {},
   "outputs": [],
   "source": [
    "from PIL import Image\n",
    "import torchvision.transforms as transforms\n",
    "\n",
    "# Read a PIL image\n",
    "image = Image.open(first)\n",
    "\n",
    "# Define a transform to convert PIL \n",
    "# image to a Torch tensor\n",
    "transform = transforms.Compose([\n",
    "    transforms.PILToTensor()\n",
    "])\n",
    "# transform = transforms.PILToTensor()\n",
    "# Convert the PIL image to Torch tensor\n",
    "img_tensor = transform(image)\n",
    "\n",
    "# print the converted Torch tensor\n",
    "print(img_tensor)"
   ]
  },
  {
   "cell_type": "code",
   "execution_count": 34,
   "metadata": {},
   "outputs": [],
   "source": [
    "import cv2\n",
    "\n",
    "image = cv2.imread(first)\n",
    "\n",
    "# Convert BGR image to RGB image\n",
    "image = cv2.cvtColor(image, cv2.COLOR_BGR2RGB)\n",
    "print(image.shape)\n",
    "plt.imshow(image)\n",
    "# Define a transform to convert\n",
    "# the image to torch tensor\n",
    "transform = transforms.Compose([\n",
    "    transforms.ToTensor()\n",
    "])\n",
    "\n",
    "# Convert the image to Torch tensor\n",
    "tensor = transform(image)\n",
    "\n",
    "# print the converted image tensor\n",
    "print(tensor)\n",
    "print(tensor.shape)"
   ]
  },
  {
   "cell_type": "markdown",
   "metadata": {},
   "source": [
    "## Resizing data for input\n",
    "\n",
    "The images are too big "
   ]
  },
  {
   "cell_type": "code",
   "execution_count": null,
   "metadata": {},
   "outputs": [],
   "source": [
    "import os\n",
    "def resize(path, width, height):\n",
    "\tfor item in dirs: #dirs is not defined\n",
    "\t\tif os.path.isfile(path + item):\n",
    "\t\t\timg = Image.open(path + item)\n",
    "\t\t\tnew_image = img.resize((width, height))\n",
    "\t\t\tnew_file_name = 'resized-' + item\n",
    "\t\t\tnew_image.save(path + new_file_name)"
   ]
  }
 ],
 "metadata": {
  "kernelspec": {
   "display_name": "Python 3",
   "language": "python",
   "name": "python3"
  },
  "language_info": {
   "codemirror_mode": {
    "name": "ipython",
    "version": 3
   },
   "file_extension": ".py",
   "mimetype": "text/x-python",
   "name": "python",
   "nbconvert_exporter": "python",
   "pygments_lexer": "ipython3",
   "version": "3.10.4"
  }
 },
 "nbformat": 4,
 "nbformat_minor": 2
}
